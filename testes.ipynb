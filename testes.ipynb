{
 "cells": [
  {
   "cell_type": "code",
   "execution_count": 2,
   "metadata": {},
   "outputs": [],
   "source": [
    "import numpy as np\n",
    "import matplotlib.pyplot as plt\n",
    "from metaheuristicas import myDE\n"
   ]
  },
  {
   "cell_type": "code",
   "execution_count": 4,
   "metadata": {},
   "outputs": [
    {
     "name": "stdout",
     "output_type": "stream",
     "text": [
      "Ponto Otimo: [1.00004337 1.00003224 1.0000408 ]\n",
      "Solucao Otima 3.550071921738056e-07\n"
     ]
    },
    {
     "data": {
      "image/png": "[encoded data removed]",
      "text/plain": [
       "<Figure size 432x288 with 1 Axes>"
      ]
     },
     "metadata": {
      "needs_background": "light"
     },
     "output_type": "display_data"
    }
   ],
   "source": [
    "n = 10\n",
    "F = 0.7\n",
    "Cr = 0.9\n",
    "N_max = 1000\n",
    "\n",
    "lb = np.array([-1,-1,-1])\n",
    "ub = np.array([2,2,2])\n",
    "\n",
    "def Fun(u):\n",
    "    z = (1-u[0])**2 + 100*(u[1] - u[0]**2)**2 + 100*(u[2] - u[1]**2)**2 \n",
    "    return z\n",
    "\n",
    "best,fmin,conv_curve = myDE(Fun,n,F,Cr,lb,ub,N_max)\n",
    "\n",
    "print(f\"Ponto Otimo: {best}\")\n",
    "print(f\"Solucao Otima {fmin}\")\n",
    "\n",
    "plt.semilogy(range(N_max), conv_curve[0])\n",
    "plt.xlabel('Número de Iterações')\n",
    "plt.ylabel('Valor da Melhor Solução (log)')\n",
    "plt.title('Curva de Convergência em Escala Logarítmica')\n",
    "plt.grid(True)\n",
    "plt.show()"
   ]
  },
  {
   "cell_type": "code",
   "execution_count": 12,
   "metadata": {},
   "outputs": [
    {
     "name": "stdout",
     "output_type": "stream",
     "text": [
      "222671.64184262633\n"
     ]
    }
   ],
   "source": [
    "# rascunho do problema 8\n",
    "\n",
    "d = 2.5\n",
    "h = 2.5\n",
    "t = 0.1\n",
    "E = 3*10**7\n",
    "L = 100\n",
    "G = 1.154*10**7\n",
    "P = -10000\n",
    "siga = 40000\n",
    "A = (d-t)*(h-t)\n",
    "I = (1/12)*(d*h**3 - (d-2*t)*(h-2*t)**3)\n",
    "J = (2 * t * (d-t)**2 * (h-t)**2)/(d+h-2*t)\n",
    "k22 = 4*L**2 + ((G*J)/(E*I))*L**2\n",
    "k33 = k22\n",
    "Krig = np.array([[24,-6*L,6*L],\n",
    "                 [-6*L,k22,0],\n",
    "                 [6*L,0,k33]])\n",
    "K = ((E*I)/L**3)*Krig\n",
    "vecP = np.array([[P],[0],[0]])\n",
    "U = np.linalg.inv(K)@vecP\n",
    "\n",
    " # deslocamentos\n",
    "U1 = float(U[0])\n",
    "U2 = float(U[1])\n",
    "U3 = float(U[2])\n",
    "\n",
    "# equacoes para as restricoes\n",
    "T = -G*J/L * U3\n",
    "tau = T/(2*A*t)\n",
    "M1 = ((2*E*I)/L**2) * (-3*U1 + U2*L)\n",
    "sig1 = (M1*h)/(2*I)\n",
    "M2 = ((2*E*I)/L**2) * (-3*U1 + 2*U2*L)\n",
    "sig2 = (M2*h)/(2*I)\n",
    "\n",
    "# restricoes\n",
    "g1 = ((sig1**2 + 3*tau**2)/(siga**2)) - 1\n",
    "g2 = ((sig2**2 + 3*tau**2)/(siga**2)) - 1\n",
    "\n",
    "\n",
    "if (g1 or g2) > 0:\n",
    "    z = 2*L*(2*d*t + 2*h*t - 4*t**2) + (10**3)*(np.max([0,g1])+np.max([0,g2]))\n",
    "else:\n",
    "    z = 2*L*(2*d*t + 2*h*t - 4*t**2)\n",
    "    \n",
    "\n",
    "print(z)\n",
    "\n",
    "\n"
   ]
  }
 ],
 "metadata": {
  "kernelspec": {
   "display_name": "Python 3",
   "language": "python",
   "name": "python3"
  },
  "language_info": {
   "codemirror_mode": {
    "name": "ipython",
    "version": 3
   },
   "file_extension": ".py",
   "mimetype": "text/x-python",
   "name": "python",
   "nbconvert_exporter": "python",
   "pygments_lexer": "ipython3",
   "version": "3.9.6"
  },
  "orig_nbformat": 4
 },
 "nbformat": 4,
 "nbformat_minor": 2
}
