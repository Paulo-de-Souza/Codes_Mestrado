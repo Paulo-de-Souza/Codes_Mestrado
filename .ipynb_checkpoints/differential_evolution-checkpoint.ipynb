{
 "cells": [
  {
   "cell_type": "code",
   "execution_count": 1,
   "id": "9729314b",
   "metadata": {},
   "outputs": [],
   "source": [
    "import numpy as np\n",
    "import random \n",
    "\n",
    "n = 10\n",
    "F = 0.7\n",
    "Cr = 0.9\n",
    "\n",
    "tol = 10**-5\n",
    "N_iter = 0\n",
    "\n",
    "lb = np.array([-1,-1,-1])\n",
    "ub = np.array([2,2,2])\n",
    "d = np.size(lb)\n",
    "\n",
    "def Fun(u):\n",
    "    z = (1-u[0])**2 + 100*(u[1] - u[0]**2)**2 + 100*(u[2] - u[1]**2)**2 \n",
    "    return z\n",
    "\n",
    "Sol = np.zeros((n,d))\n",
    "Fitness = np.zeros((n,1))\n",
    "\n",
    "for i in range(n):\n",
    "    for j in range(d):\n",
    "        Sol[i][j] = random.uniform(lb[j],ub[j])\n",
    "    Fitness[i][0] = Fun(Sol[i,:])\n"
   ]
  },
  {
   "cell_type": "code",
   "execution_count": 4,
   "id": "e3738237",
   "metadata": {},
   "outputs": [
    {
     "data": {
      "text/plain": [
       "array([[ 267.20310931],\n",
       "       [ 309.94857861],\n",
       "       [  20.63038954],\n",
       "       [ 608.29676117],\n",
       "       [ 586.99478117],\n",
       "       [ 328.73996755],\n",
       "       [1075.80669192],\n",
       "       [ 399.83809098],\n",
       "       [ 381.78762036],\n",
       "       [ 253.81603895]])"
      ]
     },
     "execution_count": 4,
     "metadata": {},
     "output_type": "execute_result"
    }
   ],
   "source": [
    "Fitness"
   ]
  },
  {
   "cell_type": "code",
   "execution_count": 12,
   "id": "dd67ff1c",
   "metadata": {},
   "outputs": [
    {
     "data": {
      "text/plain": [
       "20.630389543656428"
      ]
     },
     "execution_count": 12,
     "metadata": {},
     "output_type": "execute_result"
    }
   ],
   "source": [
    "np.min(Fitness)"
   ]
  },
  {
   "cell_type": "code",
   "execution_count": 13,
   "id": "bb31b245",
   "metadata": {},
   "outputs": [
    {
     "data": {
      "text/plain": [
       "array([[ 1.75339235,  1.45133544,  1.92730454],\n",
       "       [-0.12915594, -0.08869244,  1.7616144 ],\n",
       "       [-0.22009434, -0.17189861,  0.40752773],\n",
       "       [-0.19607035,  1.15583012, -0.85953143],\n",
       "       [ 1.23289762,  1.57993394,  0.07424624],\n",
       "       [-0.5533005 ,  0.1481949 ,  1.82149643],\n",
       "       [ 0.91241023,  1.96354938,  0.77677636],\n",
       "       [ 1.57481006,  1.39907539,  0.27615614],\n",
       "       [ 0.78084867, -0.44573193,  1.84288112],\n",
       "       [-0.00925062,  0.68808636,  1.90686071]])"
      ]
     },
     "execution_count": 13,
     "metadata": {},
     "output_type": "execute_result"
    }
   ],
   "source": [
    "Sol"
   ]
  },
  {
   "cell_type": "code",
   "execution_count": 6,
   "id": "f0fe24f0",
   "metadata": {},
   "outputs": [
    {
     "data": {
      "text/plain": [
       "array([-0.22009434, -0.17189861,  0.40752773])"
      ]
     },
     "execution_count": 6,
     "metadata": {},
     "output_type": "execute_result"
    }
   ],
   "source": [
    "fmin = np.min(Fitness)\n",
    "I = np.argmin(Fitness)\n",
    "best = Sol[I]\n",
    "best"
   ]
  },
  {
   "cell_type": "code",
   "execution_count": 15,
   "id": "4de33706",
   "metadata": {},
   "outputs": [
    {
     "data": {
      "text/plain": [
       "array([3, 8, 2, 7, 4, 1, 6, 9, 5, 0])"
      ]
     },
     "execution_count": 15,
     "metadata": {},
     "output_type": "execute_result"
    }
   ],
   "source": [
    "k1 = np.random.permutation(n)\n",
    "k1"
   ]
  },
  {
   "cell_type": "code",
   "execution_count": 16,
   "id": "f35c086b",
   "metadata": {},
   "outputs": [
    {
     "data": {
      "text/plain": [
       "array([[-0.19607035,  1.15583012, -0.85953143],\n",
       "       [ 0.78084867, -0.44573193,  1.84288112],\n",
       "       [-0.22009434, -0.17189861,  0.40752773],\n",
       "       [ 1.57481006,  1.39907539,  0.27615614],\n",
       "       [ 1.23289762,  1.57993394,  0.07424624],\n",
       "       [-0.12915594, -0.08869244,  1.7616144 ],\n",
       "       [ 0.91241023,  1.96354938,  0.77677636],\n",
       "       [-0.00925062,  0.68808636,  1.90686071],\n",
       "       [-0.5533005 ,  0.1481949 ,  1.82149643],\n",
       "       [ 1.75339235,  1.45133544,  1.92730454]])"
      ]
     },
     "execution_count": 16,
     "metadata": {},
     "output_type": "execute_result"
    }
   ],
   "source": [
    "k1sol = Sol[k1,:]\n",
    "k1sol"
   ]
  },
  {
   "cell_type": "code",
   "execution_count": 18,
   "id": "ef9a3d47",
   "metadata": {},
   "outputs": [
    {
     "data": {
      "text/plain": [
       "array([9, 8, 0, 1, 4, 2, 3, 7, 6, 5])"
      ]
     },
     "execution_count": 18,
     "metadata": {},
     "output_type": "execute_result"
    }
   ],
   "source": [
    "k2 = np.random.permutation(n)\n",
    "k2"
   ]
  },
  {
   "cell_type": "code",
   "execution_count": 21,
   "id": "a62a4cd4",
   "metadata": {},
   "outputs": [
    {
     "data": {
      "text/plain": [
       "array([[ True,  True,  True],\n",
       "       [ True,  True,  True],\n",
       "       [ True,  True,  True],\n",
       "       [False,  True,  True],\n",
       "       [ True,  True,  True],\n",
       "       [ True,  True,  True],\n",
       "       [ True,  True,  True],\n",
       "       [ True,  True,  True],\n",
       "       [ True,  True,  True],\n",
       "       [False,  True,  True]])"
      ]
     },
     "execution_count": 21,
     "metadata": {},
     "output_type": "execute_result"
    }
   ],
   "source": [
    "k2sol = Sol[k2,:]\n",
    "\n",
    "K = np.random.rand(n,d)<Cr\n",
    "K"
   ]
  },
  {
   "cell_type": "code",
   "execution_count": 29,
   "id": "421d9c1b",
   "metadata": {},
   "outputs": [
    {
     "data": {
      "text/plain": [
       "array([[ 1.62261854,  1.77875607, -0.00916995],\n",
       "       [-0.12915594, -0.08869244,  1.7616144 ],\n",
       "       [-1.60153502, -1.30816245, -0.65631604],\n",
       "       [-0.19607035,  2.1972676 , -1.89935221],\n",
       "       [ 1.23289762,  1.57993394,  0.07424624],\n",
       "       [-0.48964362,  0.20643922,  2.7693571 ],\n",
       "       [ 1.68834663,  2.52895286,  1.9221918 ],\n",
       "       [ 0.46596758,  0.90138307,  1.41764934],\n",
       "       [-0.24514883, -1.71648006,  2.57418517],\n",
       "       [-0.00925062,  1.60028474,  1.98092638]])"
      ]
     },
     "execution_count": 29,
     "metadata": {},
     "output_type": "execute_result"
    }
   ],
   "source": [
    "V = Sol + F*(k1sol-k2sol)\n",
    "V = np.multiply(Sol,1-K) + np.multiply(V,K)\n",
    "V"
   ]
  },
  {
   "cell_type": "code",
   "execution_count": 33,
   "id": "d825f371",
   "metadata": {},
   "outputs": [
    {
     "data": {
      "text/plain": [
       "array([[ 1.75339235,  1.45133544,  1.92730454],\n",
       "       [-0.12915594, -0.08869244,  1.7616144 ],\n",
       "       [-0.22009434, -0.17189861,  0.40752773],\n",
       "       [-0.19607035,  1.15583012, -0.85953143],\n",
       "       [ 1.23289762,  1.57993394,  0.07424624],\n",
       "       [-0.5533005 ,  0.1481949 ,  1.82149643],\n",
       "       [ 0.91241023,  1.96354938,  0.77677636],\n",
       "       [ 0.46596758,  0.90138307,  1.41764934],\n",
       "       [-0.24514883, -1.71648006,  2.57418517],\n",
       "       [-0.00925062,  0.68808636,  1.90686071]])"
      ]
     },
     "execution_count": 33,
     "metadata": {},
     "output_type": "execute_result"
    }
   ],
   "source": [
    "for i in range(n):\n",
    "    Fnew = Fun(V[i])\n",
    "    if Fnew <= Fitness[i]:\n",
    "        Sol[i] = V[i]\n",
    "        Fitness[i] = Fnew;\n",
    "        \n",
    "    if Fnew<=fmin:\n",
    "        best=V[i]\n",
    "        fmin=Fnew\n",
    "\n"
   ]
  },
  {
   "cell_type": "code",
   "execution_count": 41,
   "id": "a024fffe",
   "metadata": {},
   "outputs": [
    {
     "name": "stdout",
     "output_type": "stream",
     "text": [
      "Ponto Otimo: [1. 1. 1.]\n",
      "Solucao Otima 1.232595164407831e-29\n"
     ]
    }
   ],
   "source": [
    "import numpy as np\n",
    "import random \n",
    "\n",
    "n = 10\n",
    "F = 0.7\n",
    "Cr = 0.9\n",
    "\n",
    "N_iter = 0\n",
    "N_max = 1000\n",
    "\n",
    "lb = np.array([-1,-1,-1])\n",
    "ub = np.array([2,2,2])\n",
    "d = np.size(lb)\n",
    "\n",
    "def Fun(u):\n",
    "    z = (1-u[0])**2 + 100*(u[1] - u[0]**2)**2 + 100*(u[2] - u[1]**2)**2 \n",
    "    return z\n",
    "\n",
    "Sol = np.zeros((n,d))\n",
    "Fitness = np.zeros((n,1))\n",
    "\n",
    "for i in range(n):\n",
    "    for j in range(d):\n",
    "        Sol[i][j] = random.uniform(lb[j],ub[j])\n",
    "    Fitness[i][0] = Fun(Sol[i,:])\n",
    "\n",
    "fmin = np.min(Fitness)\n",
    "I = np.argmin(Fitness)\n",
    "best = Sol[I]\n",
    "\n",
    "while N_iter<N_max:\n",
    "    k1 = np.random.permutation(n)\n",
    "    k1sol = Sol[k1,:]\n",
    "    k2 = np.random.permutation(n)\n",
    "    k2sol = Sol[k2,:]\n",
    "\n",
    "    K = np.random.rand(n,d)<Cr\n",
    "\n",
    "    V = Sol + F*(k1sol-k2sol)\n",
    "    V = np.multiply(Sol,1-K) + np.multiply(V,K)\n",
    "\n",
    "## ESSE FINAL PRECISA SER MODIFICADO\n",
    "    for i in range(n):\n",
    "        Fnew = Fun(V[i])\n",
    "        if Fnew <= Fitness[i]:\n",
    "            Sol[i] = V[i]\n",
    "            Fitness[i] = Fnew;\n",
    "\n",
    "        if Fnew<=fmin:\n",
    "            best=V[i]\n",
    "            fmin=Fnew\n",
    "    N_iter = N_iter + 1\n",
    "\n",
    "#print(f\"Numero de Ieracoes: {N_iter}\")\n",
    "print(f\"Ponto Otimo: {best}\")\n",
    "print(f\"Solucao Otima {fmin}\")"
   ]
  },
  {
   "cell_type": "markdown",
   "id": "78196fc2",
   "metadata": {},
   "source": [
    "### CRIANDO A FUNCAO DO DIFERENTIAL EVOLUTION"
   ]
  },
  {
   "cell_type": "code",
   "execution_count": 191,
   "id": "60f16817",
   "metadata": {},
   "outputs": [],
   "source": [
    "import numpy as np\n",
    "import random \n",
    "\n",
    "def fun_checkpositions(vec_pos,var_no_group,lb,ub):\n",
    "  Lb = lb\n",
    "  Ub = ub\n",
    "  for i in range(var_no_group):\n",
    "    is_below_lb = vec_pos[i] < Lb;\n",
    "    is_above_ub = vec_pos[i] > Ub;\n",
    "    vec_pos[i][is_below_lb] = Lb[is_below_lb]\n",
    "    vec_pos[i][is_above_ub] = Ub[is_above_ub]\n",
    "  return vec_pos\n",
    "\n",
    "def myDE(Fun,n,F,Cr,lb,ub,N_max):\n",
    "    N_iter = 0\n",
    "    d = np.size(lb)\n",
    "    Convergence_curve = np.zeros((1,N_max))\n",
    "    Sol = np.zeros((n,d))\n",
    "    Fitness = np.zeros((n,1))\n",
    "    \n",
    "    for i in range(n):\n",
    "        for j in range(d):\n",
    "            Sol[i][j] = random.uniform(lb[j],ub[j])\n",
    "        Fitness[i][0] = Fun(Sol[i,:])\n",
    "\n",
    "    fmin = np.min(Fitness)\n",
    "    I = np.argmin(Fitness)\n",
    "    best = Sol[I]\n",
    "\n",
    "    while N_iter<N_max:\n",
    "        # mutacao\n",
    "        k1 = np.random.permutation(n)\n",
    "        k1sol = Sol[k1,:]\n",
    "        k2 = np.random.permutation(n)\n",
    "        k2sol = Sol[k2,:]\n",
    "        V = Sol + F*(k1sol-k2sol)\n",
    "        \n",
    "        # cruzamento\n",
    "        K = np.random.rand(n,d)<Cr\n",
    "        V = np.multiply(Sol,1-K) + np.multiply(V,K)       \n",
    "        V = fun_checkpositions(V,n,lb,ub)\n",
    "\n",
    "    ## ESSE FINAL PRECISA SER MODIFICADO\n",
    "        for i in range(n):\n",
    "            Fnew = Fun(V[i])\n",
    "            if Fnew <= Fitness[i]:\n",
    "                Sol[i] = V[i]\n",
    "                Fitness[i] = Fnew;\n",
    "\n",
    "            if Fnew<=fmin:\n",
    "                best=V[i]\n",
    "                fmin=Fnew\n",
    "                \n",
    "        Convergence_curve[0][N_iter]=fmin;\n",
    "        N_iter = N_iter + 1\n",
    "    return best,fmin,Convergence_curve"
   ]
  },
  {
   "cell_type": "markdown",
   "id": "94d78bb5",
   "metadata": {},
   "source": [
    "### TESTANDO A FUNCAO CRIADA"
   ]
  },
  {
   "cell_type": "code",
   "execution_count": 59,
   "id": "7cc0f487",
   "metadata": {},
   "outputs": [
    {
     "name": "stdout",
     "output_type": "stream",
     "text": [
      "Ponto Otimo: [1.         1.00000001 1.00000001]\n",
      "Solucao Otima 2.83807690474521e-16\n"
     ]
    },
    {
     "data": {
      "image/png": "[encoded data removed]",
      "text/plain": [
       "<Figure size 432x288 with 1 Axes>"
      ]
     },
     "metadata": {
      "needs_background": "light"
     },
     "output_type": "display_data"
    }
   ],
   "source": [
    "import matplotlib.pyplot as plt\n",
    "n = 10\n",
    "F = 0.7\n",
    "Cr = 0.9\n",
    "N_max = 1000\n",
    "\n",
    "lb = np.array([-1,-1,-1])\n",
    "ub = np.array([2,2,2])\n",
    "\n",
    "def Fun(u):\n",
    "    z = (1-u[0])**2 + 100*(u[1] - u[0]**2)**2 + 100*(u[2] - u[1]**2)**2 \n",
    "    return z\n",
    "\n",
    "best,fmin,conv_curve = myDE(Fun,n,F,Cr,lb,ub,N_max)\n",
    "\n",
    "print(f\"Ponto Otimo: {best}\")\n",
    "print(f\"Solucao Otima {fmin}\")\n",
    "\n",
    "plt.semilogy(range(N_max), conv_curve[0])\n",
    "plt.xlabel('Número de Iterações')\n",
    "plt.ylabel('Valor da Melhor Solução (log)')\n",
    "plt.title('Curva de Convergência em Escala Logarítmica')\n",
    "plt.grid(True)\n",
    "plt.show()"
   ]
  },
  {
   "cell_type": "code",
   "execution_count": 347,
   "id": "09104f99",
   "metadata": {},
   "outputs": [],
   "source": [
    "def problema(valor):\n",
    "    if valor == 3:\n",
    "        lb = np.array([0])\n",
    "        ub = np.array([5])\n",
    "        def func(x):\n",
    "            nu = 0.3\n",
    "            z = - 0.5*(0.5*(1-2*nu)+(1+nu)*x[0]/((1+x[0]**2)**0.5)-(3/2)*(x[0]**3 / ((1+x[0]**2)**0.5)**3))\n",
    "            return z\n",
    "        \n",
    "        \n",
    "    elif valor == 5:\n",
    "        lb = np.array([4.5,0.25])\n",
    "        ub = np.array([9,1.25])\n",
    "        Is = 0.816\n",
    "        gama = 386\n",
    "        Sy = 62000\n",
    "        omega = 800\n",
    "        nu = 0.28\n",
    "        ri = 1\n",
    "        \n",
    "        def func(x):\n",
    "            nu = 0.3\n",
    "            z = - 0.5*(0.5*(1-2*nu)+(1+nu)*x[0]/((1+x[0]**2)**0.5)-(3/2)*(x[0]**3 / ((1+x[0]**2)**0.5)**3))\n",
    "            return z\n",
    "        \n",
    "        \n",
    "    elif valor == 7:\n",
    "        lb = np.array([0,0])\n",
    "        ub = np.array([0.04,0.04])\n",
    "        def func(x):\n",
    "            A1 = 10**-5\n",
    "            A2 = A1\n",
    "            h = 1\n",
    "            s = 1.5\n",
    "            L = (h**2+0.25*s**2)**0.5\n",
    "            W = 10**4\n",
    "            tt = 30*np.pi/180\n",
    "            E = 207*10**9\n",
    "            z = (E*A1/L)*(s/(2*L))**2 * x[0]**2 + (E*A2/L)*(h/L)**2 * x[1]**2 - W*(x[0]*np.cos(tt)+x[1]*np.sin(tt))\n",
    "            return z\n",
    "        \n",
    "    elif valor == 12:\n",
    "        # definindo \"d\" e \"t\"\n",
    "        lb = np.array([2,0.2])\n",
    "        ub = np.array([14,0.8])\n",
    "        def func(x):\n",
    "            gg = 2500/(np.pi*x[0]*x[1])\n",
    "            g1 = gg - 500\n",
    "            g2 = gg - ((np.pi**2*(0.85*10**6)*(x[0]**2+x[1]**2))/(8*(250)**2))\n",
    "            if g1 > 0 or g2 > 0:\n",
    "                z = 9.82*x[0]*x[1] + 2*x[0] + 3*(np.max([0,g1]) + np.max([0,g2]))\n",
    "            else:\n",
    "                z = 9.82*x[0]*x[1] + 2*x[0]\n",
    "            return z\n",
    "    \n",
    "    elif valor == 17:\n",
    "        lb = np.array([1.1,1.1,0.0,0.0])\n",
    "        ub = np.array([4,4,1,1])\n",
    "        def func(x):\n",
    "            g1 = 0.610262*(x[0]*x[1]-x[2]*x[3]) + 8.64 - (x[0]*x[1]**3 - x[2]*x[3]**3)\n",
    "            g2 = 40000 - 1713.481*(x[0]*x[1]**3 - x[2]*x[3]**3)\n",
    "            g3 = 40000 - 1713.481*(x[1]*x[0]**3 - x[3]*x[2]**3)\n",
    "            g4 = x[2] - x[0]\n",
    "            g5 = x[3] - x[1]\n",
    "            if (g1 or g2 or g3 or g4 or g5) > 0:\n",
    "                z = 34.08*(x[0]*x[1]-x[2]*x[3]) + 10**9 * (np.max([0,g1])+np.max([0,g2])+np.max([0,g3])+np.max([0,g4])+np.max([0,g5]))\n",
    "            else:\n",
    "                z = 34.08*(x[0]*x[1]-x[2]*x[3])\n",
    "            return z\n",
    "    \n",
    "    elif valor == 18:\n",
    "        # definindo x1 e x2\n",
    "        lb = np.array([6,7])\n",
    "        ub = np.array([12,20])\n",
    "        def func(x):\n",
    "            g1 = 0.6/x[0] + 0.3464/x[1] - 0.1\n",
    "            if g1>0:\n",
    "                z = 0.1*x[0] + 0.05773*x[1] + 1000*(np.max([0,g1]))\n",
    "            else:\n",
    "                z = 0.1*x[0] + 0.05773*x[1]\n",
    "            return z\n",
    "    \n",
    "    elif valor == 19:\n",
    "        # definindo x1 e x2\n",
    "        lb = np.array([0.04,0.06])\n",
    "        ub = np.array([0.12,0.20])\n",
    "        def func(x):\n",
    "            g1 = 0.9/(x[0]*x[1]**2) - 220\n",
    "            g2 = (875.604*10**-9)/(x[0]*x[1]**3) - 0.02\n",
    "            g3 = x[0] - x[1]\n",
    "            if (g1 or g2 or g3) > 0:\n",
    "                z = 76500*x[1]*x[0] + 1.5*10**6 * (np.max([0,g1]) + np.max([0,g2]) + np.max([0,g3]))\n",
    "            else:\n",
    "                z = 76500*x[1]*x[0]\n",
    "            return z\n",
    "        \n",
    "    elif valor == 23:\n",
    "        # definindo t, n, Z\n",
    "        lb = np.array([0.004,100,700*10**-6])\n",
    "        ub = np.array([0.005,105,800*10**-6])\n",
    "        def func(x):\n",
    "            W = 1000\n",
    "            A = 10\n",
    "            B = 50\n",
    "            kb = 0.05\n",
    "            kf = 0.06\n",
    "            y = 7850\n",
    "            E = 2.1 * 10**11\n",
    "            k1 = 0.78\n",
    "            k2 = 1.95\n",
    "            #g1 = (56.25*W*B**4/(E*A))*(x[0]**-3)*(x[1]**-4) + (4.69*W*B*A**3/(E*k2))*(1/x[1])*(x[2]**-4/3) - 1\n",
    "            g1 = 0.167411*(x[0]**-3)*(x[1]**-4) + (5.726496*10**-4) * (1/x[1])*(x[2]**-4/3) - 1\n",
    "            if g1 > 0:\n",
    "                z = kf*y*A*B*x[0] + kb*y*A*k1*x[1]*x[2]**2/3 + 11*(np.max([0,g1]))\n",
    "            else:\n",
    "                z = kf*y*A*B*x[0] + kb*y*A*k1*x[1]*x[2]**2/3\n",
    "            return z\n",
    "        \n",
    "    elif valor == 24:        \n",
    "        lb = np.array([5,5,5,5])\n",
    "        ub = np.array([20,20,20,20])\n",
    "        def func(x):\n",
    "            g1 = 1.5625/x[0] + 0.6750/x[1] + 1.5625/x[2] + 1.35/x[3] - 0.5\n",
    "            if g1 != 10**-7:\n",
    "                z = x[0] + 1.2*x[1] + x[2] + 0.6*x[3] + 100*np.max([g1,0])\n",
    "            else:\n",
    "                z = x[0] + 1.2*x[1] + x[2] + 0.6*x[3]\n",
    "            return z\n",
    "        \n",
    "    elif valor == 28:\n",
    "        lb = np.array([1,1,1,1,1])\n",
    "        ub = np.array([7,7,7,7,7])\n",
    "        def func(x):\n",
    "            C1 = 0.0624\n",
    "            C2 = 1\n",
    "            g1 = 61/x[0]**3 + 37/x[1]**3 + 19/x[2]**3 + 7/x[3]**3 + 1/x[4]**3 - C2\n",
    "            if g1 > 0:\n",
    "                z = C1*(x[0]+x[1]+x[2]+x[3]+x[4]) + 10**3 * np.max([0,g1])\n",
    "            else:\n",
    "                z = C1*(x[0]+x[1]+x[2]+x[3]+x[4])\n",
    "            return z\n",
    "    \n",
    "    elif valor == 29:\n",
    "        lb = np.array([0.2,0.2])\n",
    "        ub = np.array([2.5,2.5])\n",
    "        def func(x):\n",
    "            g1 = 8/(16*x[0]+9*x[1]) - 4.5/(9*x[0]+16*x[1]) - 0.1\n",
    "            if g1 > 0:\n",
    "                z = x[0] + x[1] + 15**3 * np.max([0,g1])\n",
    "            else:\n",
    "                z = x[0] + x[1]\n",
    "            return z\n",
    "    \n",
    "    \n",
    "    return func,lb,ub\n"
   ]
  },
  {
   "cell_type": "code",
   "execution_count": 346,
   "id": "a8df3287",
   "metadata": {},
   "outputs": [
    {
     "name": "stdout",
     "output_type": "stream",
     "text": [
      "Ponto Otimo: [1.1        2.09005315 0.         0.        ]\n",
      "Solucao Otima 78.35191236332719\n"
     ]
    },
    {
     "data": {
      "image/png": "[encoded data removed]",
      "text/plain": [
       "<Figure size 432x288 with 1 Axes>"
      ]
     },
     "metadata": {
      "needs_background": "light"
     },
     "output_type": "display_data"
    }
   ],
   "source": [
    "import matplotlib.pyplot as plt\n",
    "n = 10\n",
    "F = 0.7\n",
    "Cr = 0.9\n",
    "N_max = 1000\n",
    "\n",
    "func,lb,ub = problema(17)\n",
    "best,fmin,conv_curve = myDE(func,n,F,Cr,lb,ub,N_max)\n",
    "\n",
    "print(f\"Ponto Otimo: {best}\")\n",
    "print(f\"Solucao Otima {fmin}\")\n",
    "\n",
    "plt.plot(range(N_max), conv_curve[0])\n",
    "plt.xlabel('Número de Iterações')\n",
    "plt.ylabel('Valor da Melhor Solução (log)')\n",
    "plt.title('Curva de Convergência')\n",
    "plt.grid(True)\n",
    "plt.show()"
   ]
  },
  {
   "cell_type": "code",
   "execution_count": 52,
   "id": "a8228ac3",
   "metadata": {},
   "outputs": [
    {
     "data": {
      "text/plain": [
       "array([[ 799.93442603],\n",
       "       [ 243.36308132],\n",
       "       [ 304.49985774],\n",
       "       [ 818.40602263],\n",
       "       [ 705.08592748],\n",
       "       [ 185.62621158],\n",
       "       [ 895.05730952],\n",
       "       [  30.89808368],\n",
       "       [ 351.50635631],\n",
       "       [1564.94737446]])"
      ]
     },
     "execution_count": 52,
     "metadata": {},
     "output_type": "execute_result"
    }
   ],
   "source": [
    "lb = np.array([-1,-1,-1])\n",
    "ub = np.array([2,2,2])\n",
    "d = np.size(lb)\n",
    "n = 10\n",
    "Sol = np.zeros((n,d))\n",
    "\n",
    "# criando os vetores iniciais\n",
    "for i in range(n):\n",
    "    for j in range(d):\n",
    "        Sol[i][j] = random.uniform(lb[j],ub[j])\n",
    "\n",
    "# criando as solucoes dos vetores iniciais\n",
    "def fobj(Sol):\n",
    "    colunas = np.size(Sol,1)\n",
    "    linhas = np.size(Sol,0)\n",
    "    Fitness = np.zeros((linhas,1))\n",
    "    \n",
    "    # funcao do problema estudado\n",
    "    def fun(u):\n",
    "        z = (1-u[0])**2 + 100*(u[1] - u[0]**2)**2 + 100*(u[2] - u[1]**2)**2\n",
    "        return z\n",
    "    \n",
    "    # gerando a funcao final\n",
    "    for i in range(linhas):\n",
    "        Fitness[i] = fun(Sol[i])\n",
    "    \n",
    "    return Fitness\n",
    "\n",
    "funcao = fobj(Sol)\n",
    "funcao"
   ]
  }
 ],
 "metadata": {
  "kernelspec": {
   "display_name": "Python 3",
   "language": "python",
   "name": "python3"
  },
  "language_info": {
   "codemirror_mode": {
    "name": "ipython",
    "version": 3
   },
   "file_extension": ".py",
   "mimetype": "text/x-python",
   "name": "python",
   "nbconvert_exporter": "python",
   "pygments_lexer": "ipython3",
   "version": "3.8.8"
  }
 },
 "nbformat": 4,
 "nbformat_minor": 5
}
