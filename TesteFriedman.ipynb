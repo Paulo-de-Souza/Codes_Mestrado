{
  "nbformat": 4,
  "nbformat_minor": 0,
  "metadata": {
    "colab": {
      "provenance": [],
      "toc_visible": true
    },
    "kernelspec": {
      "name": "python3",
      "display_name": "Python 3"
    },
    "language_info": {
      "name": "python"
    }
  },
  "cells": [
    {
      "cell_type": "markdown",
      "source": [
        "# Teste de Friedman"
      ],
      "metadata": {
        "id": "fJ-_3Nr5Oae6"
      }
    },
    {
      "cell_type": "markdown",
      "source": [
        "Resumo feito em 10/09/2024 com auxílio do ChatGPT\n",
        "\n",
        "O teste de Friedman é um teste estatístico não paramétrico usado para analisar diferenças entre grupos relacionados. Ele é a alternativa não paramétrica à ANOVA de medidas repetidas, que é utilizada quando os pressupostos dessa ANOVA (como a normalidade) não são satisfeitos. Vamos detalhar o funcionamento, os conceitos envolvidos e, ao final, resolver um exemplo."
      ],
      "metadata": {
        "id": "32iyBorlOg_u"
      }
    },
    {
      "cell_type": "markdown",
      "source": [
        "## Para que serve o Teste de Friedman?"
      ],
      "metadata": {
        "id": "WjMOuQn2O7rU"
      }
    },
    {
      "cell_type": "markdown",
      "source": [
        "O teste de Friedman é utilizado quando se deseja comparar três ou mais condições ou tratamentos aplicados aos mesmos sujeitos (ou blocos, em experimentos com blocos aleatorizados). Ele é aplicável quando os dados são ordinais ou quando não se pode assumir que os dados vêm de uma distribuição normal.\n",
        "\n",
        "É ideal para situações onde há medidas repetidas em várias condições e os pressupostos de normalidade ou homocedasticidade (igualdade de variâncias) não são atendidos."
      ],
      "metadata": {
        "id": "KxHGNcArPBKe"
      }
    },
    {
      "cell_type": "markdown",
      "source": [
        "## Hipótese nula"
      ],
      "metadata": {
        "id": "fkLuRW22PQx0"
      }
    },
    {
      "cell_type": "markdown",
      "source": [
        "* Hipótese nula ($H_0$): Todas as condições ou tratamentos têm a mesma mediana populacional, ou seja, não há diferença significativa entre as amostras.\n",
        "* Hipótese alternativa ($H_1$): Pelo menos uma das condições ou tratamentos tem uma mediana diferente, sugerindo diferenças entre as amostras."
      ],
      "metadata": {
        "id": "JmrtBaNmPVmC"
      }
    },
    {
      "cell_type": "markdown",
      "source": [
        "## Formalismo Matemático\n"
      ],
      "metadata": {
        "id": "WodV4O66QHJl"
      }
    },
    {
      "cell_type": "markdown",
      "source": [
        "O teste de Friedman envolve os seguintes passos:\n",
        "\n",
        "1. **Organização dos dados**: Cada sujeito (ou bloco) recebe um conjunto de tratamentos (ou condições), e a resposta para cada tratamento é medida. Os dados são organizados em uma matriz $ N \\times k $, onde:\n",
        "   - $ N $ é o número de blocos (ou sujeitos).\n",
        "   - $ k $ é o número de tratamentos (ou condições).\n",
        "\n",
        "2. **Ranqueamento**: Para cada bloco, as observações em cada linha são classificadas em ordem crescente. Se houver empates, atribui-se a cada valor a média dos postos que ocupariam.\n",
        "\n",
        "3. **Cálculo do estatístico de Friedman**:\n",
        "   \n",
        "   $$\n",
        "   F_R = \\frac{12}{Nk(k+1)} \\sum_{j=1}^{k} R_j^2 - 3N(k+1)\n",
        "   $$\n",
        "   \n",
        "   Onde:\n",
        "   - $ R_j $ é a soma dos postos para o $ j $-ésimo tratamento.\n",
        "   - $ N $ é o número de blocos (ou sujeitos).\n",
        "   - $ k $ é o número de tratamentos.\n",
        "\n",
        "4. **Decisão**: O valor $ F_R $ segue aproximadamente uma distribuição qui-quadrado ($ \\chi^2 $) com $ k - 1 $ graus de liberdade. Comparamos o valor de $ F_R $ com um valor crítico da distribuição $ \\chi^2 $ para decidir se rejeitamos ou não $ H_0 $.\n",
        "\n",
        "Se $ F_R $ for maior que o valor crítico, rejeitamos $ H_0 $ e concluímos que há diferenças significativas entre os tratamentos."
      ],
      "metadata": {
        "id": "_cEnu4emQ3yO"
      }
    },
    {
      "cell_type": "markdown",
      "source": [
        "## Exemplo 1 - Criado pelo ChatGPT"
      ],
      "metadata": {
        "id": "3bKGWbUNQ_t8"
      }
    },
    {
      "cell_type": "markdown",
      "source": [
        "Vamos considerar o exemplo de um estudo em que um grupo de 4 indivíduos foi exposto a 3 tratamentos diferentes para reduzir o tempo de reação, com os tempos medidos em segundos:\n",
        "\n",
        "| Indivíduo | Tratamento A | Tratamento B | Tratamento C |\n",
        "|-----------|--------------|--------------|--------------|\n",
        "| 1         | 3.2          | 2.8          | 2.7          |\n",
        "| 2         | 3.5          | 3.0          | 3.1          |\n",
        "| 3         | 3.3          | 3.2          | 3.0          |\n",
        "| 4         | 3.4          | 3.6          | 3.1          |\n",
        "\n",
        "### Passo 1: Ranqueamento dos dados\n",
        "Primeiro, ranqueamos os dados para cada linha (cada indivíduo). O menor valor recebe posto 1, o segundo menor posto 2, e assim por diante.\n",
        "\n",
        "| Indivíduo | Tratamento A | Tratamento B | Tratamento C | Posto A | Posto B | Posto C |\n",
        "|-----------|--------------|--------------|--------------|---------|---------|---------|\n",
        "| 1         | 3.2          | 2.8          | 2.7          | 3       | 2       | 1       |\n",
        "| 2         | 3.5          | 3.0          | 3.1          | 3       | 1       | 2       |\n",
        "| 3         | 3.3          | 3.2          | 3.0          | 3       | 2       | 1       |\n",
        "| 4         | 3.4          | 3.6          | 3.1          | 2       | 3       | 1       |\n",
        "\n",
        "### Passo 2: Soma dos postos\n",
        "Calculamos a soma dos postos para cada tratamento:\n",
        "\n",
        "- Soma dos postos para o Tratamento A: $ 3 + 3 + 3 + 2 = 11 $\n",
        "- Soma dos postos para o Tratamento B: $ 2 + 1 + 2 + 3 = 8 $\n",
        "- Soma dos postos para o Tratamento C: $ 1 + 2 + 1 + 1 = 5 $\n",
        "\n",
        "### Passo 3: Cálculo da estatística de Friedman\n",
        "Agora usamos a fórmula do teste de Friedman:\n",
        "\n",
        "$$\n",
        "F_R = \\frac{12}{Nk(k+1)} \\sum_{j=1}^{k} R_j^2 - 3N(k+1)\n",
        "$$\n",
        "\n",
        "Substituindo os valores:\n",
        "\n",
        "- $ N = 4 $ (número de indivíduos)\n",
        "- $ k = 3 $ (número de tratamentos)\n",
        "- Somatório dos quadrados dos postos: $ 11^2 + 8^2 + 5^2 = 121 + 64 + 25 = 210 $\n",
        "\n",
        "$$\n",
        "\\begin{aligned}\n",
        "F_R &= \\frac{12}{4 \\times 3 \\times (3+1)} \\times 210 - 3 \\times 4 \\times (3+1) \\\\\n",
        " &= \\frac{12}{48} \\times 210 - 3 \\times 4 \\times 4 \\\\\n",
        " &= 52.5 - 48 \\\\ & = 4.5\n",
        "\\end{aligned}\n",
        "$$\n",
        "\n",
        "### Passo 4: Comparação com o valor crítico\n",
        "O valor crítico de $ \\chi^2 $ para $ k - 1 = 2 $ graus de liberdade e um nível de significância de 0,05 é aproximadamente 5.99.\n",
        "\n",
        "Como $ F_R = 4.5 $ é menor que o valor crítico de $ \\chi^2 $, **não rejeitamos a hipótese nula**. Não há evidências suficientes para concluir que há uma diferença significativa entre os tratamentos.\n"
      ],
      "metadata": {
        "id": "hFmaYtyXRwrN"
      }
    },
    {
      "cell_type": "markdown",
      "source": [
        "### Implementação do Exemplo 1"
      ],
      "metadata": {
        "id": "y8PIhT8MQ6vf"
      }
    },
    {
      "cell_type": "markdown",
      "source": [
        "No Python, a matriz apresentada no exemplo deve ser **transposta**. Isto é, cada linha representa uma **coluna do Tratamento**. No exemplo a seguir, ela é montada conforme o problema e coloca-se o **.T** para fazer a transposição."
      ],
      "metadata": {
        "id": "x-npzpMlW1qR"
      }
    },
    {
      "cell_type": "code",
      "execution_count": null,
      "metadata": {
        "colab": {
          "base_uri": "https://localhost:8080/"
        },
        "id": "HuP9PxT_IW3_",
        "outputId": "7be9cf85-af75-4a19-acd4-45ec4564c01b"
      },
      "outputs": [
        {
          "output_type": "stream",
          "name": "stdout",
          "text": [
            "Estatística de teste: 4.5\n",
            "Valor-p: 0.10539922456186433\n"
          ]
        }
      ],
      "source": [
        "import scipy.stats as stats\n",
        "import numpy as np\n",
        "# Dados de exemplo\n",
        "dados = np.array([\n",
        "    [3.2, 2.8, 2.7],  # Sujeito 1\n",
        "    [3.5, 3.0, 3.1],  # Sujeito 2\n",
        "    [3.3, 3.2, 3.0],  # Sujeito 3\n",
        "    [3.4, 3.6, 3.1]   # Sujeito 4\n",
        "]).T\n",
        "\n",
        "# Aplicando o teste de Friedman\n",
        "stat, p = stats.friedmanchisquare(*dados)\n",
        "\n",
        "print(f'Estatística de teste: {stat}')\n",
        "print(f'Valor-p: {p}')\n"
      ]
    },
    {
      "cell_type": "markdown",
      "source": [
        "### Dados da dissertacao 1"
      ],
      "metadata": {
        "id": "_Tp3sQsXxb68"
      }
    },
    {
      "cell_type": "code",
      "source": [
        "import numpy as np\n",
        "\n",
        "dados = np.array([\n",
        "    [1564.76509, 1564.76490, 1565.50791, 1564.76596, 1565.69641],\n",
        "    [1.35361, 1.33997, 1.56018, 1.35996, 1.34033],\n",
        "    [26.53159, 26.53133, 26.60963, 26.57612, 26.57784],\n",
        "    [9.39001, 9.39001, 9.39154, 9.39043, 9.39087],\n",
        "    [0.91150, 0.90509, 1.32994, 0.91450, 0.92746]\n",
        "]).T\n",
        "\n",
        "# Aplicando o teste de Friedman\n",
        "stat, p = stats.friedmanchisquare(*dados)\n",
        "\n",
        "print(f'Estatística de teste: {stat}')\n",
        "print(f'Valor-p: {p}')"
      ],
      "metadata": {
        "colab": {
          "base_uri": "https://localhost:8080/"
        },
        "id": "AglgrKbqwfVK",
        "outputId": "85221dcc-8513-4842-fe4f-1b1ab32b2c4b"
      },
      "execution_count": null,
      "outputs": [
        {
          "output_type": "stream",
          "name": "stdout",
          "text": [
            "Estatística de teste: 16.848484848484855\n",
            "Valor-p: 0.0020684472508883814\n"
          ]
        }
      ]
    },
    {
      "cell_type": "code",
      "source": [
        "import numpy as np\n",
        "from scipy.stats import friedmanchisquare\n",
        "\n",
        "# Matriz dos resultados (linhas = problemas, colunas = algoritmos)\n",
        "dados = np.array([\n",
        "    [1564.76509, 1564.76490, 1565.50791, 1564.76596, 1565.69641],\n",
        "    [1.35361, 1.33997, 1.56018, 1.35996, 1.34033],\n",
        "    [26.53159, 26.53133, 26.60963, 26.57612, 26.57784],\n",
        "    [9.39001, 9.39001, 9.39154, 9.39043, 9.39087],\n",
        "    [0.91150, 0.90509, 1.32994, 0.91450, 0.92746]\n",
        "])\n",
        "\n",
        "# Converte os valores em rankings dentro de cada problema\n",
        "ranks = np.argsort(np.argsort(dados, axis=1), axis=1) + 1  # Rank 1 para o menor valor\n",
        "\n",
        "# Aplicar o teste de Friedman\n",
        "stat, p_value = friedmanchisquare(*dados.T)  # Transpõe para comparar colunas (algoritmos)\n",
        "\n",
        "print(f\"Estatística de Friedman: {stat:.4f}\")\n",
        "print(f\"Valor-p: {p_value:.4f}\")\n",
        "\n",
        "# Interpretação\n",
        "if p_value < 0.01:\n",
        "    print(\"Diferença estatística encontrada entre os algoritmos!\")\n",
        "else:\n",
        "    print(\"Não há diferença estatística significativa entre os algoritmos.\")\n"
      ],
      "metadata": {
        "colab": {
          "base_uri": "https://localhost:8080/"
        },
        "id": "zqV1Iny00_hm",
        "outputId": "53c8496d-a495-4d36-df41-e103a2280b65"
      },
      "execution_count": null,
      "outputs": [
        {
          "output_type": "stream",
          "name": "stdout",
          "text": [
            "Estatística de Friedman: 16.8485\n",
            "Valor-p: 0.0021\n",
            "Diferença estatística encontrada entre os algoritmos!\n"
          ]
        }
      ]
    },
    {
      "cell_type": "code",
      "source": [
        "import numpy as np\n",
        "from scipy.stats import friedmanchisquare\n",
        "\n",
        "# Matriz dos resultados (linhas = problemas, colunas = algoritmos)\n",
        "dados = np.array([\n",
        "    [1564.77, 1564.76, 1565.51, 1564.77, 1565.70],\n",
        "    [1.35, 1.34, 1.56, 1.36, 1.34],\n",
        "    [26.53, 26.53, 26.61, 26.58, 26.58],\n",
        "    [9.39, 9.39, 9.39, 9.39, 9.39],\n",
        "    [0.91, 0.91, 1.33, 0.91, 0.93]\n",
        "])\n",
        "\n",
        "# Converte os valores em rankings dentro de cada problema\n",
        "ranks = np.argsort(np.argsort(dados, axis=1), axis=1) + 1  # Rank 1 para o menor valor\n",
        "\n",
        "# Aplicar o teste de Friedman\n",
        "stat, p_value = friedmanchisquare(*dados.T)  # Transpõe para comparar colunas (algoritmos)\n",
        "\n",
        "print(f\"Estatística de Friedman: {stat:.4f}\")\n",
        "print(f\"Valor-p: {p_value:.4f}\")\n",
        "\n",
        "# Interpretação\n",
        "if p_value < 0.05:\n",
        "    print(\"Diferença estatística encontrada entre os algoritmos!\")\n",
        "else:\n",
        "    print(\"Não há diferença estatística significativa entre os algoritmos.\")"
      ],
      "metadata": {
        "colab": {
          "base_uri": "https://localhost:8080/"
        },
        "id": "m5Nplw6726ds",
        "outputId": "d39a7fee-92a9-4fc5-8235-e9e052f3e613"
      },
      "execution_count": null,
      "outputs": [
        {
          "output_type": "stream",
          "name": "stdout",
          "text": [
            "Estatística de Friedman: 10.8889\n",
            "Valor-p: 0.0278\n",
            "Diferença estatística encontrada entre os algoritmos!\n"
          ]
        }
      ]
    },
    {
      "cell_type": "markdown",
      "source": [
        "### Exemplo 2 - Retirado do tutorial do Scipy\n"
      ],
      "metadata": {
        "id": "TGdbNUaYasND"
      }
    },
    {
      "cell_type": "code",
      "source": [
        "from scipy.stats import friedmanchisquare\n",
        "before = [72, 96, 88, 92, 74, 76, 82]\n",
        "immediately_after = [120, 120, 132, 120, 101, 96, 112]\n",
        "five_min_after = [76, 95, 104, 96, 84, 72, 76]\n",
        "res3 = friedmanchisquare(before, immediately_after, five_min_after)\n",
        "res3.statistic"
      ],
      "metadata": {
        "colab": {
          "base_uri": "https://localhost:8080/"
        },
        "id": "eDxIMIe3-Des",
        "outputId": "d2088966-9d63-4945-8dd9-b9d2b8c1aff6"
      },
      "execution_count": null,
      "outputs": [
        {
          "output_type": "execute_result",
          "data": {
            "text/plain": [
              "10.57142857142857"
            ]
          },
          "metadata": {},
          "execution_count": 2
        }
      ]
    },
    {
      "cell_type": "markdown",
      "source": [
        "## Teste de Friedman com Tied"
      ],
      "metadata": {
        "id": "WTEkGkFLZF8C"
      }
    },
    {
      "cell_type": "markdown",
      "source": [
        "Resumo feito em 12/09/2024\n",
        "\n",
        "Para os casos em que há valores dos dados repetidos, a avaliação de Friedman sofre uma pequena alteração. Essa fórmula corrigida pode ser de três formas.\n",
        "\n",
        "1. **Com base em (Hollander)**\n",
        "\n",
        "$$F_R' = \\dfrac{12 \\sum_{j=1}^{k} R_j^2 - 3N^2k(k+1)^2}{Nk(k+1) - \\left(\\frac{1}{k-1}\\right)\\sum_{i=1}^n\\left[\\left(\\sum_{j=1}^{g_i}t_{ij}^3  \\right) - k \\right]}$$\n",
        "\n",
        "de forma a simplificar essa equação, chega-se a:\n",
        "\n",
        "$$F_R'=\\dfrac{F_R}{1 - \\dfrac{1}{n(k^3-k)}\\sum_{i=1}^n\\left[\\left(\\sum_{j=1}^{g_i}t_{ij}^3  \\right) - k \\right]} $$\n",
        "\n",
        "Na ocasião temos que:\n",
        "* $g_i$: é o número de grupos totais *tied* no i-th bloco (considera até os casos sem empates)\n",
        "* $t_{ij}$: é a quantidade de elementos do j-th grupo no i-th bloco\n",
        "\n",
        "\\\\\n",
        "2. **Com base no Minitab**\n",
        "\n",
        "A relação apresentada no Minitab é uma manipulação advinda da fórmula de Hollander. O que segue:\n",
        "\n",
        "$$F_R' = \\frac{F_R}{C}$$\n",
        "\n",
        "sendo C definido por:\n",
        "\n",
        "$$C = 1 - \\dfrac{1}{n(k^3-k)} \\sum_{i=1}^n\\left[\\sum_{j=1}^{m_i}\\left(t_{ij}^3   - t_{ij} \\right)\\right]$$\n",
        "\n",
        "em que:\n",
        "* $m_i$: é o número de grupos somente com empate em cada bloco.\n",
        "\n",
        "\\\\\n",
        "3. **Com base em (Sprenter)**"
      ],
      "metadata": {
        "id": "i_v7eNC3Zoj1"
      }
    },
    {
      "cell_type": "markdown",
      "source": [
        "### Exemplo 3 - Retirado do YT"
      ],
      "metadata": {
        "id": "O8Jjh_vy4vPP"
      }
    },
    {
      "cell_type": "markdown",
      "source": [
        "Vídeo - [Teste de Friedman - Exercício](https://youtu.be/1sal8_Ci9Ec?si=8wC0-WYlZhrC69IO)\n",
        "\n",
        "\n",
        "**Tabela do exercício:**\n",
        "\n",
        "| Estudante | Estimulo A | Estimulo B | Estimulo C |\n",
        "|-----------|--------------|--------------|--------------|\n",
        "| 1         | 0.6          | 0.9          | 0.8          |\n",
        "| 2         | 0.7          | 1.1          | 0.7          |\n",
        "| 3         | 0.9          | 1.3          | 1.0          |\n",
        "| 4         | 0.5          | 0.7          | 0.8          |\n",
        "\n",
        "**Hipóteses**\n",
        "\n",
        "H0: as distribuições dos 3 tempos de resposta são idênticas\n",
        "\n",
        "H1: pelo menos duas das 3 distribuições diferem na localização\n",
        "\n",
        "Em resumo: Rejeitar a hipótese nula H0 se Fr > $\\chi^2$\n",
        "\n",
        "**Resolução**\n",
        "\n",
        "N = 4, k = 3, os postos ficam dispostos da forma:\n",
        "\n",
        "| Estudante | Posto A      | Posto B      | Posto C      |\n",
        "|-----------|--------------|--------------|--------------|\n",
        "| 1         | 1          | 3          | 2          |\n",
        "| 2         | 1.5        | 3          | 1.5          |\n",
        "| 3         | 1          | 3          | 2          |\n",
        "| 4         | 1          | 2          | 3          |\n",
        "\n",
        "A soma de cada posto é portanto:\n",
        "\n",
        "Posto A: $1 + 1.5 + 1 + 1 = 4.5$\n",
        "\n",
        "Posto B: $3 + 3 + 3 + 2 = 11$\n",
        "\n",
        "Posto C: $2 + 1.5 + 2 + 3 = 8.5$\n",
        "\n",
        "Substituindo na fórmula de Friedman:\n",
        "$$F_r = \\frac{12}{4\\cdot 3 (3+1)}[4.5^2 + 11^2 + 8.5^2] - 3\\cdot 4 (3+1) = 5.375 $$\n",
        "\n",
        "No entanto, em uma das linhas (blocos) há valores repetidos, então deve ser considerada a relação do *Friedman Tied*\n",
        "\n",
        "1. Pela fórmula de Hollander, olhando para o denominador por ter somente um bloco (2ª linha), têm-se:\n",
        "$$1 - \\dfrac{1}{n(k^3-k)}\\left[\\left(\\sum_{j=1}^{g_2}t_{2j}^3  \\right) - k \\right]$$\n",
        "\n",
        "nesse $g_2$ tem dois grupos, o que contem os Postos A e C, e o que contem o Posto B, assim:\n",
        "$$g_2 = 2 \\hspace{1cm} t_{21} = 2 \\hspace{1cm} t_{22} = 1 $$\n",
        "sendo ainda k=3 e n =4, podemos substituir na formula do denominador:\n",
        "\n",
        "$$\n",
        "\\begin{aligned}\n",
        "=& 1 -  \\dfrac{1}{4(3^3-3)}\\left[\\left(\\sum_{j=1}^{2}t_{2j}^3  \\right) - 3 \\right] \\\\\n",
        "=&1 -  \\dfrac{1}{4(3^3-3)}\\left[(2^3 + 1^3) - 3 \\right]\\\\\n",
        "=&1 -  \\dfrac{6}{4\\cdot 24} \\\\\n",
        "=&0.9375\n",
        "\\end{aligned}\n",
        "$$\n",
        "\n",
        "portanto, o valor final para a estatística do Friedman Tied é:\n",
        "\n",
        "$$F_R' = \\frac{5.375}{0.9375} = 5.733\\bar{3}$$"
      ],
      "metadata": {
        "id": "2MFKcbFc4zi0"
      }
    },
    {
      "cell_type": "markdown",
      "source": [
        "O valor crítico de $\\chi^2$ para $k-1 = 2$ e uma significância de 0.05 é equivalente a 5.99 (olhar tabela da distribuição $\\chi^2$)\n",
        "\n",
        "Como o valor de $F_R'$ é menor, então aceita-se a hipótese nula."
      ],
      "metadata": {
        "id": "Ps99slEH8TTR"
      }
    },
    {
      "cell_type": "markdown",
      "source": [
        "### Implementação do Exemplo 3\n"
      ],
      "metadata": {
        "id": "dbI3BPQL9A-S"
      }
    },
    {
      "cell_type": "markdown",
      "source": [
        "Links:\n",
        "* [Understanding PMF, PDF, CDF, and PPF in Just 10 Minutes](https://medium.com/@rathibala96/probability-distributions-a-comprehensive-guide-to-pmf-pdf-and-cdf-ppf-297fbb2f6803)"
      ],
      "metadata": {
        "id": "Und4yAZEXP4A"
      }
    },
    {
      "cell_type": "code",
      "source": [
        "import scipy.stats as stats\n",
        "\n",
        "#Forma de resolver segundo o manual\n",
        "estA = [0.6,0.7,0.9,0.5]   #estimulo A\n",
        "estB = [0.9,1.1,1.3,0.7]\n",
        "estC = [0.8,0.7,1.0,0.8]\n",
        "\n",
        "res1,pvalor1 = stats.friedmanchisquare(estA,estB,estC)\n",
        "print(f\"Fr do teste = {res1:.4f}\")\n",
        "Fcri = stats.chi2.ppf(1-.05, df=2)    # valor de F critico calculado com PPF (funcao ponto de porcentagem) é inversa a CDF\n",
        "print(f\"Fr critico = {Fcri}\")\n",
        "print(f\"p-valor do teste = {pvalor1}\")\n",
        "\n",
        "pvalue1 = stats.chi2.pdf(res1,df=2)   # valor de p calculado com a PDF (funcao de densidade probabilidade)\n",
        "print(f'P valor via PDF = {pvalue1*2}')"
      ],
      "metadata": {
        "colab": {
          "base_uri": "https://localhost:8080/"
        },
        "id": "S8Oq5lzB4ysA",
        "outputId": "eac76871-b5d9-47c5-f2df-3f06eabe9ed8"
      },
      "execution_count": null,
      "outputs": [
        {
          "output_type": "stream",
          "name": "stdout",
          "text": [
            "Fr do teste = 5.7333\n",
            "Fr critico = 5.991464547107979\n",
            "p-valor do teste = 0.056888238346101516\n",
            "P valor via PDF = 0.056888238346101516\n"
          ]
        }
      ]
    },
    {
      "cell_type": "code",
      "source": [
        "dados2 = np.array([\n",
        "    [1564.76509, 1564.76490, 1565.50791, 1564.76596, 1565.69641],\n",
        "    [1.35361, 1.33997, 1.56018, 1.35996, 1.34033],\n",
        "    [26.53159, 26.53133, 26.60963, 26.57612, 26.57784],\n",
        "    [9.39001, 9.39001, 9.39154, 9.39043, 9.39087],\n",
        "    [0.91150, 0.90509, 1.32994, 0.91450, 0.92746]\n",
        "]).T\n",
        "\n",
        "res1,pvalor1 = stats.friedmanchisquare(*dados2)\n",
        "print(f\"Fr do teste = {res1:.4f}\")\n",
        "Fcri = stats.chi2.ppf(1-.01, df=2)    # valor de F critico calculado com PPF (funcao ponto de porcentagem) é inversa a CDF\n",
        "print(f\"Fr critico = {Fcri}\")\n",
        "print(f\"p-valor do teste = {pvalor1}\")\n",
        "\n",
        "pvalue1 = stats.chi2.pdf(res1,df=2)   # valor de p calculado com a PDF (funcao de densidade probabilidade)\n",
        "print(f'P valor via PDF = {pvalue1*2}')"
      ],
      "metadata": {
        "colab": {
          "base_uri": "https://localhost:8080/"
        },
        "id": "GSM8C4gkxjYa",
        "outputId": "50b84fbe-3811-4439-819e-309ea037af02"
      },
      "execution_count": null,
      "outputs": [
        {
          "output_type": "stream",
          "name": "stdout",
          "text": [
            "Fr do teste = 16.8485\n",
            "Fr critico = 9.21034037197618\n",
            "p-valor do teste = 0.0020684472508883814\n",
            "P valor via PDF = 0.00021948154109105008\n"
          ]
        }
      ]
    },
    {
      "cell_type": "markdown",
      "source": [
        "### Exemplo 4 - Criado para estudo pessoal"
      ],
      "metadata": {
        "id": "tBIZkvTAa1iq"
      }
    },
    {
      "cell_type": "markdown",
      "source": [
        "Exemplo proprio, para teste do python.\n",
        "\n",
        "| Estudante | Prova 1     | Prova 2    | Prova 3      |\n",
        "|-----------|--------------|--------------|--------------|\n",
        "| 1         | 10          | 8          | 10          |\n",
        "| 2         | 9        | 9          | 9          |\n",
        "\n",
        "então a matriz de posto\n",
        "\n",
        "| Estudante | Posto A      | Posto B      | Posto C      |\n",
        "|-----------|--------------|--------------|--------------|\n",
        "| 1         | 2.5          | 1          | 2.5          |\n",
        "| 2         | 2        | 2          | 2          |\n",
        "\n",
        "A soma dos postos: Posto A = 4.5, Posto B = 3, Posto C = 4.5\n",
        "\n",
        "N = 2, k = 3\n",
        "\n",
        "Substituindo na fórmula de Friedman:\n",
        "$$F_R = \\frac{12}{2\\cdot 3 (3+1)}[4.5^2 + 3^2 + 4.5^2] - 3\\cdot 2 (3+1) = 0.75 $$"
      ],
      "metadata": {
        "id": "BvzKBSueDWTZ"
      }
    },
    {
      "cell_type": "markdown",
      "source": [
        "Como em ambas as linhas (blocos) há repetições de dados, é necessário usar a relação Friedman Tied.\n",
        "\n",
        "Resolvendo pela fórmula do minitab, têm-se para o dominador que:\n",
        "\n",
        "$$C = 1 - \\dfrac{1}{n(k^3-k)} \\sum_{i=1}^n\\left[\\sum_{j=1}^{m_i}\\left(t_{ij}^3   - t_{ij} \\right)\\right]$$\n",
        "\n",
        "Como nesse caso considera-se somente a quantidade de **grupos que se repetem**, temos que em cada bloco n, o valor de $m_1=m_2=1$. Na ocasião temos então ainda que:\n",
        "$$t_{11} = 2 \\hspace{1cm} t_{21} = 3$$\n",
        "assim:\n",
        "$$\n",
        "\\begin{aligned}\n",
        "C &= 1 - \\dfrac{1}{2(3^3-3)} \\left([2^3 - 2] + [3^3 - 3]\\right)\\\\\n",
        "& = 1 - \\dfrac{6+24}{48}\\\\\n",
        "& = 0.375\n",
        "\\end{aligned}\n",
        "$$\n",
        "assim têm-se que:\n",
        "$$F_R' = \\frac{0.75}{0.375} = 2$$\n"
      ],
      "metadata": {
        "id": "BTTLLbUfxuqx"
      }
    },
    {
      "cell_type": "code",
      "source": [
        "import scipy.stats as stats\n",
        "\n",
        "#Forma de resolver segundo o manual\n",
        "pA = [10,9]   #estimulo A\n",
        "pB = [8,9]\n",
        "pC = [10,9]\n",
        "\n",
        "res4 = stats.friedmanchisquare(pA,pB,pC)\n",
        "print(f\"Fr = {res4.statistic:.4f}\")\n"
      ],
      "metadata": {
        "colab": {
          "base_uri": "https://localhost:8080/"
        },
        "id": "0O1bGH2SBVXl",
        "outputId": "d61a57af-6a74-4b89-c204-16fd5afae6fa"
      },
      "execution_count": null,
      "outputs": [
        {
          "output_type": "stream",
          "name": "stdout",
          "text": [
            "Fr = 2.0000\n"
          ]
        }
      ]
    },
    {
      "cell_type": "markdown",
      "source": [
        "# Teste de Friedman Aligned"
      ],
      "metadata": {
        "id": "oBZ51QEppzCy"
      }
    },
    {
      "cell_type": "markdown",
      "source": [
        "*Resumo feito em 11/09/2024*\n",
        "\n",
        "Nesse teste os cálculos são um tanto diferentes, começando pela determinação do *rank*, assim como a obtenção do valor do teste."
      ],
      "metadata": {
        "id": "HK4F1JswqAF5"
      }
    },
    {
      "cell_type": "markdown",
      "source": [
        "## Friedman Aligned Rank"
      ],
      "metadata": {
        "id": "2_qIaO6jqQ_n"
      }
    },
    {
      "cell_type": "markdown",
      "source": [
        "Com base no trecho retirado do artigo: *Advanced nonparametric tests for multiple comparisons in the design of experiments in computational intelligence and data mining: Experimental analysis of power*\", o Rank nesse teste é feito da seguinte forma:\n",
        "\n",
        "\n",
        "> In this technique, a value of location is computed as the average performance achieved by all algorithms in each data set.\n",
        "Then, it calculates the difference between the performance obtained by an algorithm and the value of location. This step is  repeated for algorithms and data sets. The resulting differences, called aligned observations, which keep their identities with respect to the data set and the combination of algorithms to which they belong, are then ranked from 1 to kn relative to each other.\n",
        "\n",
        "**O que Chat-Gpt explica desse trecho:**\n",
        "\n",
        "1. Cálculo da \"value of location\":\n",
        "\n",
        "* Para cada conjunto de dados, calcula-se um valor de referência, chamado aqui de \"valor de localização\". Esse valor é a média do desempenho de todos os algoritmos naquele conjunto de dados. A ideia é ter um ponto central de comparação para cada conjunto de dados.\n",
        "\n",
        "2. Diferença em relação ao \"valor de localização\":\n",
        "* Para cada algoritmo e cada conjunto de dados, calcula-se a diferença entre o desempenho desse algoritmo e o \"valor de localização\" correspondente. Ou seja, você vê o quão distante (positiva ou negativamente) o desempenho de um algoritmo está em relação à média dos desempenhos naquele conjunto de dados.\n",
        "\n",
        "3. Alinhamento das observações:\n",
        "* As diferenças calculadas (também chamadas de \"aligned observations\" ou observações alinhadas) mantêm sua identificação com o conjunto de dados e o algoritmo ao qual pertencem. Isso significa que mesmo após calcular as diferenças, sabe-se a qual algoritmo e conjunto de dados cada diferença pertence.\n",
        "\n",
        "4. Ranqueamento:\n",
        "* As diferenças alinhadas de todos os algoritmos em todos os conjuntos de dados são, então, ranqueadas. Os valores são ordenados de 1 até $kn$ (onde k é o número de algoritmos e n é o número de conjuntos de dados). O menor valor recebe o menor rank e assim por diante, independentemente de qual conjunto de dados ou algoritmo esteja associado àquela diferença.\n"
      ],
      "metadata": {
        "id": "cCWBtHdCqiC9"
      }
    },
    {
      "cell_type": "markdown",
      "source": [
        "### Exemplo do Rank Aligned"
      ],
      "metadata": {
        "id": "2y-cpTuIr9nE"
      }
    },
    {
      "cell_type": "markdown",
      "source": [
        "Com base no artigo: *A practical tutorial on the use of nonparametric statistical tests as a methodology for comparing evolutionary and swarm intelligence algorithms*\n",
        "\n",
        "Seja a seguinte tabela de dados:\n",
        "\n",
        "| Error | A      | B    | C    | D    |\n",
        "|-------|--------|------|------|------|\n",
        "| P1    | 2.711  | 3.147| 2.515| 2.612\n",
        "| P2    |   7.832| 9.828| 7.832| 7.921\n",
        "| P3    |   0.012| 0.532| 0.122| 0.005\n",
        "| P4    |   3.431| 4.111| 3.401| 3.401"
      ],
      "metadata": {
        "id": "gtktsOuKsCuN"
      }
    },
    {
      "cell_type": "markdown",
      "source": [
        "1. Para cada linha, devemos calcular a média.\n",
        "\n",
        "> $\\bar{x}_{P1} = \\dfrac{2.711+3.147+2.515+2.612}{4} = 2.74625$\n",
        ">\n",
        ">As demais são obtidas via python e dão os seguintes valores:\n",
        ">\n",
        ">$\\bar{x}_{P2} = 8.35325$\n",
        ">\n",
        ">$\\bar{x}_{P3} =0.16775$\n",
        ">\n",
        ">$\\bar{x}_{P4} =3.586 $"
      ],
      "metadata": {
        "id": "VjbCvXnay_lB"
      }
    },
    {
      "cell_type": "markdown",
      "source": [
        "2. Subtrair o valor encontrado da média em cada linha, para cada componente da linha.\n",
        "\n",
        "> Avaliando a primeira linha temos:\n",
        ">\n",
        "> $P1_A = 2.711 - 2.74625 = -0.03525 \\\\\n",
        " P1_B = 3.147 - 2.74625 =  0.40075 \\\\\n",
        " P1_C = 2.515 - 2.74625 = -0.23125 \\\\\n",
        " P1_D = 2.612 - 2.74625 = -0.13425$\n",
        ">\n",
        "> Fazendo isso para todas as linhas monta-se a matriz:\n",
        "\n",
        "| A      | B    | C    | D    |\n",
        "|------|---|---|---|\n",
        "|-0.03525 | 0.40075 | -0.23125 | -0.13425|\n",
        "| -0.52125|  1.47475 |-0.52125 |-0.43225 |\n",
        "|-0.15575 | 0.36425 |-0.04575 |-0.16275|\n",
        "| -0.155  |  0.525 |  -0.185  | -0.185  |"
      ],
      "metadata": {
        "id": "0ZhhK5f1zD2t"
      }
    },
    {
      "cell_type": "markdown",
      "source": [
        "3. Colocar os valores encontrados em ordem\n",
        "\n",
        "Do menor para o maior valor, colocar todas as diferenças calculadas,\n",
        "o que nesse caso da um vetor com 16 posições. Para facilitar fazemos isso em python\n",
        "\n",
        "\n"
      ],
      "metadata": {
        "id": "vcpL0TPN0bHN"
      }
    },
    {
      "cell_type": "code",
      "source": [
        "import numpy as np\n",
        "A  = np.array([\n",
        "    [-0.03525, 0.40075, -0.23125, -0.13425],\n",
        "    [-0.52125, 1.47475, -0.52125, -0.43225],\n",
        "    [-0.15575, 0.36425, -0.04575, -0.16275],\n",
        "    [-0.155, 0.525, -0.185, -0.185]])\n",
        "vetor_ordenado = np.sort(A.flatten())\n",
        "print(vetor_ordenado)"
      ],
      "metadata": {
        "colab": {
          "base_uri": "https://localhost:8080/"
        },
        "id": "ULzCZ0YN3BGV",
        "outputId": "ebc3a9b1-97bc-4662-d7e8-db4a427ed8ce"
      },
      "execution_count": null,
      "outputs": [
        {
          "output_type": "stream",
          "name": "stdout",
          "text": [
            "[-0.52125 -0.52125 -0.43225 -0.23125 -0.185   -0.185   -0.16275 -0.15575\n",
            " -0.155   -0.13425 -0.04575 -0.03525  0.36425  0.40075  0.525    1.47475]\n"
          ]
        }
      ]
    },
    {
      "cell_type": "markdown",
      "source": [
        "Agora devemos atribuir o posto de cada posição, usando novamente o python"
      ],
      "metadata": {
        "id": "PzeLcRuc3iyu"
      }
    },
    {
      "cell_type": "code",
      "source": [
        "from scipy.stats import rankdata\n",
        "# Aplicando o rank ao vetor, com método 'average' para valores repetidos\n",
        "vetor_rankeado = rankdata(vetor_ordenado, method='average')\n",
        "print(vetor_rankeado)"
      ],
      "metadata": {
        "colab": {
          "base_uri": "https://localhost:8080/"
        },
        "id": "yalk3IeZ3_dh",
        "outputId": "6492026b-e92b-4e97-951f-7544c214e8c7"
      },
      "execution_count": null,
      "outputs": [
        {
          "output_type": "stream",
          "name": "stdout",
          "text": [
            "[ 1.5  1.5  3.   4.   5.5  5.5  7.   8.   9.  10.  11.  12.  13.  14.\n",
            " 15.  16. ]\n"
          ]
        }
      ]
    },
    {
      "cell_type": "markdown",
      "source": [
        "Por fim, com os valores dos postos estabelecidos monta-se a matriz de acordo com o posto encontrado para cada valor da tabela anteriormente calculada, o que gera:\n",
        "\n",
        "| A      | B    | C    | D    |\n",
        "|------|---|---|---|\n",
        "|12 | 14 | 4 | 10|\n",
        "|1.5| 16 |1.5 |3 |\n",
        "|8. | 13 |11  |7 |\n",
        "|9. | 15 |5.5 |5.5  |"
      ],
      "metadata": {
        "id": "JdKVy4n35mkM"
      }
    },
    {
      "cell_type": "markdown",
      "source": [
        "### Exemplo resolvido totalmente em Python"
      ],
      "metadata": {
        "id": "35JUu3ah7HRf"
      }
    },
    {
      "cell_type": "code",
      "source": [
        "import pandas as pd\n",
        "import numpy as np\n",
        "\n",
        "data = np.array([\n",
        "    [2.711, 3.147, 2.515, 2.612],\n",
        "    [7.832, 9.828, 7.832, 7.921],\n",
        "    [0.012, 0.532, 0.122, 0.005],\n",
        "    [3.431, 4.111, 3.401, 3.401]\n",
        "])\n",
        "\n",
        "# Passo 1: Calcular a média (valor de localização) de cada linha (dataset)\n",
        "location_values = np.mean(data, axis=1)\n",
        "print(f\"{location_values}\\n\")\n",
        "\n",
        "# Passo 2: Calcular as diferenças entre cada valor e o valor de localização correspondente\n",
        "aligned_observations = data - location_values[:, np.newaxis]\n",
        "print(f\"{aligned_observations}\\n\")\n",
        "\n",
        "# Passo 3: Rankear todas as diferenças alinhadas\n",
        "aligned_ranks = pd.DataFrame(aligned_observations.flatten()).rank(ascending=False).to_numpy().reshape(data.shape)\n",
        "\n",
        "print(aligned_ranks)"
      ],
      "metadata": {
        "colab": {
          "base_uri": "https://localhost:8080/"
        },
        "id": "vispIgnSqGEZ",
        "outputId": "5503a704-3b16-414e-81bc-ac598c06a3b2"
      },
      "execution_count": null,
      "outputs": [
        {
          "output_type": "stream",
          "name": "stdout",
          "text": [
            "[2.74625 8.35325 0.16775 3.586  ]\n",
            "\n",
            "[[-0.03525  0.40075 -0.23125 -0.13425]\n",
            " [-0.52125  1.47475 -0.52125 -0.43225]\n",
            " [-0.15575  0.36425 -0.04575 -0.16275]\n",
            " [-0.155    0.525   -0.185   -0.185  ]]\n",
            "\n",
            "[[ 5.   3.  13.   7. ]\n",
            " [15.5  1.  15.5 14. ]\n",
            " [ 9.   4.   6.  10. ]\n",
            " [ 8.   2.  11.5 11.5]]\n"
          ]
        }
      ]
    },
    {
      "cell_type": "markdown",
      "source": [
        "## Friedman Aligned Ranks Test"
      ],
      "metadata": {
        "id": "7VrsFWl49zzt"
      }
    },
    {
      "cell_type": "markdown",
      "source": [
        "A fórmula para o cálculo do teste é dada por\n",
        "\n",
        "$$F_{AR} = \\dfrac{(k-1)\\left[\\sum_{j=1}^k R_j^2 - \\dfrac{kn^2(kn+1)^2}{4}\\right]}{\\dfrac{kn(kn+1)(2kn+1)}{6}-\\dfrac{1}{k}\\sum_{i=1}^n R_i^2}$$"
      ],
      "metadata": {
        "id": "CKDjtHUb-AwA"
      }
    },
    {
      "cell_type": "markdown",
      "source": [
        "Em que:\n",
        "\n",
        "* $R_i$ é o rank total do i-ésimo problema\n",
        "* $R_j$ é o rank total do j-ésimo algoritmo"
      ],
      "metadata": {
        "id": "0NQJ35Qq-3DH"
      }
    },
    {
      "cell_type": "markdown",
      "source": [
        "## Exemplo com base na tabela 2 do Golcuk"
      ],
      "metadata": {
        "id": "VuDQ6-54n5N_"
      }
    },
    {
      "cell_type": "code",
      "source": [
        "import numpy as np\n",
        "from scipy.stats import rankdata, wilcoxon, norm\n",
        "import pandas as pd"
      ],
      "metadata": {
        "id": "Wu_cnZPchVTg"
      },
      "execution_count": null,
      "outputs": []
    },
    {
      "cell_type": "code",
      "source": [
        "dados = '/content/drive/MyDrive/Colab Notebooks/table2_Golcuk.csv'\n",
        "df = pd.read_csv(dados)\n",
        "df"
      ],
      "metadata": {
        "colab": {
          "base_uri": "https://localhost:8080/",
          "height": 645
        },
        "id": "4nyTWN9VhXaK",
        "outputId": "4d2ba2db-57af-4ae7-e30f-4267289f2c94"
      },
      "execution_count": null,
      "outputs": [
        {
          "output_type": "execute_result",
          "data": {
            "text/plain": [
              "         SP_Best       DP_Best     DPSF_Best      EDP_Best    EDPSF_Best  \\\n",
              "0   2.998000e+03  3.016000e+03  3.014000e+03  3.014000e+03  3.017000e+03   \n",
              "1   6.322000e-01  3.203000e+01  3.928000e-01  3.835000e-03  1.382000e-01   \n",
              "2   1.268000e-02  1.300000e-02  1.289000e-02  1.320000e-02  1.283000e-02   \n",
              "3   4.747000e+02  7.200000e+03  6.210000e+03  4.757000e+02  6.521000e+03   \n",
              "4   1.773000e+00  1.701000e+00  1.907000e+00  1.046000e-01  1.859000e+00   \n",
              "5   2.640000e+02  2.639000e+02  2.640000e+02  2.520000e+00  2.639000e+02   \n",
              "6   2.378000e-01  2.363000e-01  2.362000e-01  2.377000e-01  2.366000e-01   \n",
              "7   5.273000e-01  5.273000e-01  5.258000e-01  5.273000e-01  5.269000e-01   \n",
              "8   8.524000e+00  1.654000e+01  1.640000e+01  8.524000e+00  8.692000e+00   \n",
              "9   3.471000e+00  3.622000e+00  3.476000e+00  3.288000e+00  3.321000e+00   \n",
              "10  3.961000e+03  2.599000e+03  2.685000e+03 -1.419000e+27 -3.877000e+29   \n",
              "11  3.592000e+00  8.875000e+00  5.987000e+01  0.000000e+00  0.000000e+00   \n",
              "12  5.615000e+02  5.594000e+02  5.557000e+02  5.652000e+02  5.533000e+02   \n",
              "13  1.727000e+04  1.716000e+04  1.710000e+04  1.717000e+04  1.712000e+04   \n",
              "14  2.968000e+06  2.971000e+06  2.968000e+06  2.976000e+06  2.972000e+06   \n",
              "15  2.645000e-01  2.647000e-01  2.669000e+00  9.258000e-04  2.720000e+00   \n",
              "16  0.000000e+00  0.000000e+00  0.000000e+00  0.000000e+00  0.000000e+00   \n",
              "17 -3.034000e+04 -3.022000e+04 -2.959000e+04 -2.230000e+04 -2.984000e+04   \n",
              "18  2.640000e+00  2.640000e+00  2.640000e+00  2.639000e+00  2.640000e+00   \n",
              "\n",
              "         AP_Best       EP_Best     ITCH_Best  \n",
              "0   3.011000e+03  2.998000e+03  2.996000e+03  \n",
              "1   7.228000e-01  2.148000e+03  2.109000e-01  \n",
              "2   1.296000e-02  1.267000e-02  1.269000e-02  \n",
              "3   4.803000e+02  6.483000e+03  6.133000e+03  \n",
              "4   2.001000e+00  1.672000e+00  1.684000e+00  \n",
              "5   1.488000e+00  2.639000e+02  2.639000e+02  \n",
              "6   1.262000e-01  2.352000e-01  2.352000e-01  \n",
              "7   5.300000e-01  5.258000e-01  5.258000e-01  \n",
              "8   1.672000e+01  1.035000e+01  1.647000e+01  \n",
              "9   3.839000e+00  3.442000e+00  3.438000e+00  \n",
              "10  2.535000e+03  1.867000e+03  1.861000e+03  \n",
              "11  3.224000e+00  2.148000e+01  6.967000e+01  \n",
              "12  2.028000e+01  5.551000e+02  5.646000e+02  \n",
              "13  1.711000e+04  1.700000e+04  1.698000e+04  \n",
              "14  1.330000e+06  2.965000e+06  2.965000e+06  \n",
              "15  1.448000e-02  2.659000e+00  2.659000e+00  \n",
              "16  0.000000e+00  0.000000e+00  1.611000e-20  \n",
              "17 -3.050000e+04 -3.055000e+04 -3.051000e+04  \n",
              "18  2.640000e+00  2.639000e+00  2.639000e+00  "
            ],
            "text/html": [
              "\n",
              "  <div id=\"df-3309dcb0-a9fb-4444-930b-944cbfe94adb\" class=\"colab-df-container\">\n",
              "    <div>\n",
              "<style scoped>\n",
              "    .dataframe tbody tr th:only-of-type {\n",
              "        vertical-align: middle;\n",
              "    }\n",
              "\n",
              "    .dataframe tbody tr th {\n",
              "        vertical-align: top;\n",
              "    }\n",
              "\n",
              "    .dataframe thead th {\n",
              "        text-align: right;\n",
              "    }\n",
              "</style>\n",
              "<table border=\"1\" class=\"dataframe\">\n",
              "  <thead>\n",
              "    <tr style=\"text-align: right;\">\n",
              "      <th></th>\n",
              "      <th>SP_Best</th>\n",
              "      <th>DP_Best</th>\n",
              "      <th>DPSF_Best</th>\n",
              "      <th>EDP_Best</th>\n",
              "      <th>EDPSF_Best</th>\n",
              "      <th>AP_Best</th>\n",
              "      <th>EP_Best</th>\n",
              "      <th>ITCH_Best</th>\n",
              "    </tr>\n",
              "  </thead>\n",
              "  <tbody>\n",
              "    <tr>\n",
              "      <th>0</th>\n",
              "      <td>2.998000e+03</td>\n",
              "      <td>3.016000e+03</td>\n",
              "      <td>3.014000e+03</td>\n",
              "      <td>3.014000e+03</td>\n",
              "      <td>3.017000e+03</td>\n",
              "      <td>3.011000e+03</td>\n",
              "      <td>2.998000e+03</td>\n",
              "      <td>2.996000e+03</td>\n",
              "    </tr>\n",
              "    <tr>\n",
              "      <th>1</th>\n",
              "      <td>6.322000e-01</td>\n",
              "      <td>3.203000e+01</td>\n",
              "      <td>3.928000e-01</td>\n",
              "      <td>3.835000e-03</td>\n",
              "      <td>1.382000e-01</td>\n",
              "      <td>7.228000e-01</td>\n",
              "      <td>2.148000e+03</td>\n",
              "      <td>2.109000e-01</td>\n",
              "    </tr>\n",
              "    <tr>\n",
              "      <th>2</th>\n",
              "      <td>1.268000e-02</td>\n",
              "      <td>1.300000e-02</td>\n",
              "      <td>1.289000e-02</td>\n",
              "      <td>1.320000e-02</td>\n",
              "      <td>1.283000e-02</td>\n",
              "      <td>1.296000e-02</td>\n",
              "      <td>1.267000e-02</td>\n",
              "      <td>1.269000e-02</td>\n",
              "    </tr>\n",
              "    <tr>\n",
              "      <th>3</th>\n",
              "      <td>4.747000e+02</td>\n",
              "      <td>7.200000e+03</td>\n",
              "      <td>6.210000e+03</td>\n",
              "      <td>4.757000e+02</td>\n",
              "      <td>6.521000e+03</td>\n",
              "      <td>4.803000e+02</td>\n",
              "      <td>6.483000e+03</td>\n",
              "      <td>6.133000e+03</td>\n",
              "    </tr>\n",
              "    <tr>\n",
              "      <th>4</th>\n",
              "      <td>1.773000e+00</td>\n",
              "      <td>1.701000e+00</td>\n",
              "      <td>1.907000e+00</td>\n",
              "      <td>1.046000e-01</td>\n",
              "      <td>1.859000e+00</td>\n",
              "      <td>2.001000e+00</td>\n",
              "      <td>1.672000e+00</td>\n",
              "      <td>1.684000e+00</td>\n",
              "    </tr>\n",
              "    <tr>\n",
              "      <th>5</th>\n",
              "      <td>2.640000e+02</td>\n",
              "      <td>2.639000e+02</td>\n",
              "      <td>2.640000e+02</td>\n",
              "      <td>2.520000e+00</td>\n",
              "      <td>2.639000e+02</td>\n",
              "      <td>1.488000e+00</td>\n",
              "      <td>2.639000e+02</td>\n",
              "      <td>2.639000e+02</td>\n",
              "    </tr>\n",
              "    <tr>\n",
              "      <th>6</th>\n",
              "      <td>2.378000e-01</td>\n",
              "      <td>2.363000e-01</td>\n",
              "      <td>2.362000e-01</td>\n",
              "      <td>2.377000e-01</td>\n",
              "      <td>2.366000e-01</td>\n",
              "      <td>1.262000e-01</td>\n",
              "      <td>2.352000e-01</td>\n",
              "      <td>2.352000e-01</td>\n",
              "    </tr>\n",
              "    <tr>\n",
              "      <th>7</th>\n",
              "      <td>5.273000e-01</td>\n",
              "      <td>5.273000e-01</td>\n",
              "      <td>5.258000e-01</td>\n",
              "      <td>5.273000e-01</td>\n",
              "      <td>5.269000e-01</td>\n",
              "      <td>5.300000e-01</td>\n",
              "      <td>5.258000e-01</td>\n",
              "      <td>5.258000e-01</td>\n",
              "    </tr>\n",
              "    <tr>\n",
              "      <th>8</th>\n",
              "      <td>8.524000e+00</td>\n",
              "      <td>1.654000e+01</td>\n",
              "      <td>1.640000e+01</td>\n",
              "      <td>8.524000e+00</td>\n",
              "      <td>8.692000e+00</td>\n",
              "      <td>1.672000e+01</td>\n",
              "      <td>1.035000e+01</td>\n",
              "      <td>1.647000e+01</td>\n",
              "    </tr>\n",
              "    <tr>\n",
              "      <th>9</th>\n",
              "      <td>3.471000e+00</td>\n",
              "      <td>3.622000e+00</td>\n",
              "      <td>3.476000e+00</td>\n",
              "      <td>3.288000e+00</td>\n",
              "      <td>3.321000e+00</td>\n",
              "      <td>3.839000e+00</td>\n",
              "      <td>3.442000e+00</td>\n",
              "      <td>3.438000e+00</td>\n",
              "    </tr>\n",
              "    <tr>\n",
              "      <th>10</th>\n",
              "      <td>3.961000e+03</td>\n",
              "      <td>2.599000e+03</td>\n",
              "      <td>2.685000e+03</td>\n",
              "      <td>-1.419000e+27</td>\n",
              "      <td>-3.877000e+29</td>\n",
              "      <td>2.535000e+03</td>\n",
              "      <td>1.867000e+03</td>\n",
              "      <td>1.861000e+03</td>\n",
              "    </tr>\n",
              "    <tr>\n",
              "      <th>11</th>\n",
              "      <td>3.592000e+00</td>\n",
              "      <td>8.875000e+00</td>\n",
              "      <td>5.987000e+01</td>\n",
              "      <td>0.000000e+00</td>\n",
              "      <td>0.000000e+00</td>\n",
              "      <td>3.224000e+00</td>\n",
              "      <td>2.148000e+01</td>\n",
              "      <td>6.967000e+01</td>\n",
              "    </tr>\n",
              "    <tr>\n",
              "      <th>12</th>\n",
              "      <td>5.615000e+02</td>\n",
              "      <td>5.594000e+02</td>\n",
              "      <td>5.557000e+02</td>\n",
              "      <td>5.652000e+02</td>\n",
              "      <td>5.533000e+02</td>\n",
              "      <td>2.028000e+01</td>\n",
              "      <td>5.551000e+02</td>\n",
              "      <td>5.646000e+02</td>\n",
              "    </tr>\n",
              "    <tr>\n",
              "      <th>13</th>\n",
              "      <td>1.727000e+04</td>\n",
              "      <td>1.716000e+04</td>\n",
              "      <td>1.710000e+04</td>\n",
              "      <td>1.717000e+04</td>\n",
              "      <td>1.712000e+04</td>\n",
              "      <td>1.711000e+04</td>\n",
              "      <td>1.700000e+04</td>\n",
              "      <td>1.698000e+04</td>\n",
              "    </tr>\n",
              "    <tr>\n",
              "      <th>14</th>\n",
              "      <td>2.968000e+06</td>\n",
              "      <td>2.971000e+06</td>\n",
              "      <td>2.968000e+06</td>\n",
              "      <td>2.976000e+06</td>\n",
              "      <td>2.972000e+06</td>\n",
              "      <td>1.330000e+06</td>\n",
              "      <td>2.965000e+06</td>\n",
              "      <td>2.965000e+06</td>\n",
              "    </tr>\n",
              "    <tr>\n",
              "      <th>15</th>\n",
              "      <td>2.645000e-01</td>\n",
              "      <td>2.647000e-01</td>\n",
              "      <td>2.669000e+00</td>\n",
              "      <td>9.258000e-04</td>\n",
              "      <td>2.720000e+00</td>\n",
              "      <td>1.448000e-02</td>\n",
              "      <td>2.659000e+00</td>\n",
              "      <td>2.659000e+00</td>\n",
              "    </tr>\n",
              "    <tr>\n",
              "      <th>16</th>\n",
              "      <td>0.000000e+00</td>\n",
              "      <td>0.000000e+00</td>\n",
              "      <td>0.000000e+00</td>\n",
              "      <td>0.000000e+00</td>\n",
              "      <td>0.000000e+00</td>\n",
              "      <td>0.000000e+00</td>\n",
              "      <td>0.000000e+00</td>\n",
              "      <td>1.611000e-20</td>\n",
              "    </tr>\n",
              "    <tr>\n",
              "      <th>17</th>\n",
              "      <td>-3.034000e+04</td>\n",
              "      <td>-3.022000e+04</td>\n",
              "      <td>-2.959000e+04</td>\n",
              "      <td>-2.230000e+04</td>\n",
              "      <td>-2.984000e+04</td>\n",
              "      <td>-3.050000e+04</td>\n",
              "      <td>-3.055000e+04</td>\n",
              "      <td>-3.051000e+04</td>\n",
              "    </tr>\n",
              "    <tr>\n",
              "      <th>18</th>\n",
              "      <td>2.640000e+00</td>\n",
              "      <td>2.640000e+00</td>\n",
              "      <td>2.640000e+00</td>\n",
              "      <td>2.639000e+00</td>\n",
              "      <td>2.640000e+00</td>\n",
              "      <td>2.640000e+00</td>\n",
              "      <td>2.639000e+00</td>\n",
              "      <td>2.639000e+00</td>\n",
              "    </tr>\n",
              "  </tbody>\n",
              "</table>\n",
              "</div>\n",
              "    <div class=\"colab-df-buttons\">\n",
              "\n",
              "  <div class=\"colab-df-container\">\n",
              "    <button class=\"colab-df-convert\" onclick=\"convertToInteractive('df-3309dcb0-a9fb-4444-930b-944cbfe94adb')\"\n",
              "            title=\"Convert this dataframe to an interactive table.\"\n",
              "            style=\"display:none;\">\n",
              "\n",
              "  <svg xmlns=\"http://www.w3.org/2000/svg\" height=\"24px\" viewBox=\"0 -960 960 960\">\n",
              "    <path d=\"M120-120v-720h720v720H120Zm60-500h600v-160H180v160Zm220 220h160v-160H400v160Zm0 220h160v-160H400v160ZM180-400h160v-160H180v160Zm440 0h160v-160H620v160ZM180-180h160v-160H180v160Zm440 0h160v-160H620v160Z\"/>\n",
              "  </svg>\n",
              "    </button>\n",
              "\n",
              "  <style>\n",
              "    .colab-df-container {\n",
              "      display:flex;\n",
              "      gap: 12px;\n",
              "    }\n",
              "\n",
              "    .colab-df-convert {\n",
              "      background-color: #E8F0FE;\n",
              "      border: none;\n",
              "      border-radius: 50%;\n",
              "      cursor: pointer;\n",
              "      display: none;\n",
              "      fill: #1967D2;\n",
              "      height: 32px;\n",
              "      padding: 0 0 0 0;\n",
              "      width: 32px;\n",
              "    }\n",
              "\n",
              "    .colab-df-convert:hover {\n",
              "      background-color: #E2EBFA;\n",
              "      box-shadow: 0px 1px 2px rgba(60, 64, 67, 0.3), 0px 1px 3px 1px rgba(60, 64, 67, 0.15);\n",
              "      fill: #174EA6;\n",
              "    }\n",
              "\n",
              "    .colab-df-buttons div {\n",
              "      margin-bottom: 4px;\n",
              "    }\n",
              "\n",
              "    [theme=dark] .colab-df-convert {\n",
              "      background-color: #3B4455;\n",
              "      fill: #D2E3FC;\n",
              "    }\n",
              "\n",
              "    [theme=dark] .colab-df-convert:hover {\n",
              "      background-color: #434B5C;\n",
              "      box-shadow: 0px 1px 3px 1px rgba(0, 0, 0, 0.15);\n",
              "      filter: drop-shadow(0px 1px 2px rgba(0, 0, 0, 0.3));\n",
              "      fill: #FFFFFF;\n",
              "    }\n",
              "  </style>\n",
              "\n",
              "    <script>\n",
              "      const buttonEl =\n",
              "        document.querySelector('#df-3309dcb0-a9fb-4444-930b-944cbfe94adb button.colab-df-convert');\n",
              "      buttonEl.style.display =\n",
              "        google.colab.kernel.accessAllowed ? 'block' : 'none';\n",
              "\n",
              "      async function convertToInteractive(key) {\n",
              "        const element = document.querySelector('#df-3309dcb0-a9fb-4444-930b-944cbfe94adb');\n",
              "        const dataTable =\n",
              "          await google.colab.kernel.invokeFunction('convertToInteractive',\n",
              "                                                    [key], {});\n",
              "        if (!dataTable) return;\n",
              "\n",
              "        const docLinkHtml = 'Like what you see? Visit the ' +\n",
              "          '<a target=\"_blank\" href=https://colab.research.google.com/notebooks/data_table.ipynb>data table notebook</a>'\n",
              "          + ' to learn more about interactive tables.';\n",
              "        element.innerHTML = '';\n",
              "        dataTable['output_type'] = 'display_data';\n",
              "        await google.colab.output.renderOutput(dataTable, element);\n",
              "        const docLink = document.createElement('div');\n",
              "        docLink.innerHTML = docLinkHtml;\n",
              "        element.appendChild(docLink);\n",
              "      }\n",
              "    </script>\n",
              "  </div>\n",
              "\n",
              "\n",
              "<div id=\"df-d7bd149a-2195-49b3-ac40-3ba4aab3b157\">\n",
              "  <button class=\"colab-df-quickchart\" onclick=\"quickchart('df-d7bd149a-2195-49b3-ac40-3ba4aab3b157')\"\n",
              "            title=\"Suggest charts\"\n",
              "            style=\"display:none;\">\n",
              "\n",
              "<svg xmlns=\"http://www.w3.org/2000/svg\" height=\"24px\"viewBox=\"0 0 24 24\"\n",
              "     width=\"24px\">\n",
              "    <g>\n",
              "        <path d=\"M19 3H5c-1.1 0-2 .9-2 2v14c0 1.1.9 2 2 2h14c1.1 0 2-.9 2-2V5c0-1.1-.9-2-2-2zM9 17H7v-7h2v7zm4 0h-2V7h2v10zm4 0h-2v-4h2v4z\"/>\n",
              "    </g>\n",
              "</svg>\n",
              "  </button>\n",
              "\n",
              "<style>\n",
              "  .colab-df-quickchart {\n",
              "      --bg-color: #E8F0FE;\n",
              "      --fill-color: #1967D2;\n",
              "      --hover-bg-color: #E2EBFA;\n",
              "      --hover-fill-color: #174EA6;\n",
              "      --disabled-fill-color: #AAA;\n",
              "      --disabled-bg-color: #DDD;\n",
              "  }\n",
              "\n",
              "  [theme=dark] .colab-df-quickchart {\n",
              "      --bg-color: #3B4455;\n",
              "      --fill-color: #D2E3FC;\n",
              "      --hover-bg-color: #434B5C;\n",
              "      --hover-fill-color: #FFFFFF;\n",
              "      --disabled-bg-color: #3B4455;\n",
              "      --disabled-fill-color: #666;\n",
              "  }\n",
              "\n",
              "  .colab-df-quickchart {\n",
              "    background-color: var(--bg-color);\n",
              "    border: none;\n",
              "    border-radius: 50%;\n",
              "    cursor: pointer;\n",
              "    display: none;\n",
              "    fill: var(--fill-color);\n",
              "    height: 32px;\n",
              "    padding: 0;\n",
              "    width: 32px;\n",
              "  }\n",
              "\n",
              "  .colab-df-quickchart:hover {\n",
              "    background-color: var(--hover-bg-color);\n",
              "    box-shadow: 0 1px 2px rgba(60, 64, 67, 0.3), 0 1px 3px 1px rgba(60, 64, 67, 0.15);\n",
              "    fill: var(--button-hover-fill-color);\n",
              "  }\n",
              "\n",
              "  .colab-df-quickchart-complete:disabled,\n",
              "  .colab-df-quickchart-complete:disabled:hover {\n",
              "    background-color: var(--disabled-bg-color);\n",
              "    fill: var(--disabled-fill-color);\n",
              "    box-shadow: none;\n",
              "  }\n",
              "\n",
              "  .colab-df-spinner {\n",
              "    border: 2px solid var(--fill-color);\n",
              "    border-color: transparent;\n",
              "    border-bottom-color: var(--fill-color);\n",
              "    animation:\n",
              "      spin 1s steps(1) infinite;\n",
              "  }\n",
              "\n",
              "  @keyframes spin {\n",
              "    0% {\n",
              "      border-color: transparent;\n",
              "      border-bottom-color: var(--fill-color);\n",
              "      border-left-color: var(--fill-color);\n",
              "    }\n",
              "    20% {\n",
              "      border-color: transparent;\n",
              "      border-left-color: var(--fill-color);\n",
              "      border-top-color: var(--fill-color);\n",
              "    }\n",
              "    30% {\n",
              "      border-color: transparent;\n",
              "      border-left-color: var(--fill-color);\n",
              "      border-top-color: var(--fill-color);\n",
              "      border-right-color: var(--fill-color);\n",
              "    }\n",
              "    40% {\n",
              "      border-color: transparent;\n",
              "      border-right-color: var(--fill-color);\n",
              "      border-top-color: var(--fill-color);\n",
              "    }\n",
              "    60% {\n",
              "      border-color: transparent;\n",
              "      border-right-color: var(--fill-color);\n",
              "    }\n",
              "    80% {\n",
              "      border-color: transparent;\n",
              "      border-right-color: var(--fill-color);\n",
              "      border-bottom-color: var(--fill-color);\n",
              "    }\n",
              "    90% {\n",
              "      border-color: transparent;\n",
              "      border-bottom-color: var(--fill-color);\n",
              "    }\n",
              "  }\n",
              "</style>\n",
              "\n",
              "  <script>\n",
              "    async function quickchart(key) {\n",
              "      const quickchartButtonEl =\n",
              "        document.querySelector('#' + key + ' button');\n",
              "      quickchartButtonEl.disabled = true;  // To prevent multiple clicks.\n",
              "      quickchartButtonEl.classList.add('colab-df-spinner');\n",
              "      try {\n",
              "        const charts = await google.colab.kernel.invokeFunction(\n",
              "            'suggestCharts', [key], {});\n",
              "      } catch (error) {\n",
              "        console.error('Error during call to suggestCharts:', error);\n",
              "      }\n",
              "      quickchartButtonEl.classList.remove('colab-df-spinner');\n",
              "      quickchartButtonEl.classList.add('colab-df-quickchart-complete');\n",
              "    }\n",
              "    (() => {\n",
              "      let quickchartButtonEl =\n",
              "        document.querySelector('#df-d7bd149a-2195-49b3-ac40-3ba4aab3b157 button');\n",
              "      quickchartButtonEl.style.display =\n",
              "        google.colab.kernel.accessAllowed ? 'block' : 'none';\n",
              "    })();\n",
              "  </script>\n",
              "</div>\n",
              "\n",
              "  <div id=\"id_bd1c70da-4c7f-4980-a1b4-339cfdc1592f\">\n",
              "    <style>\n",
              "      .colab-df-generate {\n",
              "        background-color: #E8F0FE;\n",
              "        border: none;\n",
              "        border-radius: 50%;\n",
              "        cursor: pointer;\n",
              "        display: none;\n",
              "        fill: #1967D2;\n",
              "        height: 32px;\n",
              "        padding: 0 0 0 0;\n",
              "        width: 32px;\n",
              "      }\n",
              "\n",
              "      .colab-df-generate:hover {\n",
              "        background-color: #E2EBFA;\n",
              "        box-shadow: 0px 1px 2px rgba(60, 64, 67, 0.3), 0px 1px 3px 1px rgba(60, 64, 67, 0.15);\n",
              "        fill: #174EA6;\n",
              "      }\n",
              "\n",
              "      [theme=dark] .colab-df-generate {\n",
              "        background-color: #3B4455;\n",
              "        fill: #D2E3FC;\n",
              "      }\n",
              "\n",
              "      [theme=dark] .colab-df-generate:hover {\n",
              "        background-color: #434B5C;\n",
              "        box-shadow: 0px 1px 3px 1px rgba(0, 0, 0, 0.15);\n",
              "        filter: drop-shadow(0px 1px 2px rgba(0, 0, 0, 0.3));\n",
              "        fill: #FFFFFF;\n",
              "      }\n",
              "    </style>\n",
              "    <button class=\"colab-df-generate\" onclick=\"generateWithVariable('df')\"\n",
              "            title=\"Generate code using this dataframe.\"\n",
              "            style=\"display:none;\">\n",
              "\n",
              "  <svg xmlns=\"http://www.w3.org/2000/svg\" height=\"24px\"viewBox=\"0 0 24 24\"\n",
              "       width=\"24px\">\n",
              "    <path d=\"M7,19H8.4L18.45,9,17,7.55,7,17.6ZM5,21V16.75L18.45,3.32a2,2,0,0,1,2.83,0l1.4,1.43a1.91,1.91,0,0,1,.58,1.4,1.91,1.91,0,0,1-.58,1.4L9.25,21ZM18.45,9,17,7.55Zm-12,3A5.31,5.31,0,0,0,4.9,8.1,5.31,5.31,0,0,0,1,6.5,5.31,5.31,0,0,0,4.9,4.9,5.31,5.31,0,0,0,6.5,1,5.31,5.31,0,0,0,8.1,4.9,5.31,5.31,0,0,0,12,6.5,5.46,5.46,0,0,0,6.5,12Z\"/>\n",
              "  </svg>\n",
              "    </button>\n",
              "    <script>\n",
              "      (() => {\n",
              "      const buttonEl =\n",
              "        document.querySelector('#id_bd1c70da-4c7f-4980-a1b4-339cfdc1592f button.colab-df-generate');\n",
              "      buttonEl.style.display =\n",
              "        google.colab.kernel.accessAllowed ? 'block' : 'none';\n",
              "\n",
              "      buttonEl.onclick = () => {\n",
              "        google.colab.notebook.generateWithVariable('df');\n",
              "      }\n",
              "      })();\n",
              "    </script>\n",
              "  </div>\n",
              "\n",
              "    </div>\n",
              "  </div>\n"
            ],
            "application/vnd.google.colaboratory.intrinsic+json": {
              "type": "dataframe",
              "variable_name": "df",
              "summary": "{\n  \"name\": \"df\",\n  \"rows\": 19,\n  \"fields\": [\n    {\n      \"column\": \"SP_Best\",\n      \"properties\": {\n        \"dtype\": \"number\",\n        \"std\": 681017.6303330276,\n        \"min\": -30340.0,\n        \"max\": 2968000.0,\n        \"num_unique_values\": 19,\n        \"samples\": [\n          2998.0,\n          264.0,\n          3.592\n        ],\n        \"semantic_type\": \"\",\n        \"description\": \"\"\n      }\n    },\n    {\n      \"column\": \"DP_Best\",\n      \"properties\": {\n        \"dtype\": \"number\",\n        \"std\": 681637.9191714852,\n        \"min\": -30220.0,\n        \"max\": 2971000.0,\n        \"num_unique_values\": 19,\n        \"samples\": [\n          3016.0,\n          263.9,\n          8.875\n        ],\n        \"semantic_type\": \"\",\n        \"description\": \"\"\n      }\n    },\n    {\n      \"column\": \"DPSF_Best\",\n      \"properties\": {\n        \"dtype\": \"number\",\n        \"std\": 680951.6323907032,\n        \"min\": -29590.0,\n        \"max\": 2968000.0,\n        \"num_unique_values\": 19,\n        \"samples\": [\n          3014.0,\n          264.0,\n          59.87\n        ],\n        \"semantic_type\": \"\",\n        \"description\": \"\"\n      }\n    },\n    {\n      \"column\": \"EDP_Best\",\n      \"properties\": {\n        \"dtype\": \"number\",\n        \"std\": 3.255409263623271e+26,\n        \"min\": -1.419e+27,\n        \"max\": 2976000.0,\n        \"num_unique_values\": 18,\n        \"samples\": [\n          3014.0,\n          0.003835,\n          8.524\n        ],\n        \"semantic_type\": \"\",\n        \"description\": \"\"\n      }\n    },\n    {\n      \"column\": \"EDPSF_Best\",\n      \"properties\": {\n        \"dtype\": \"number\",\n        \"std\": 8.89444800216168e+28,\n        \"min\": -3.877e+29,\n        \"max\": 2972000.0,\n        \"num_unique_values\": 18,\n        \"samples\": [\n          3017.0,\n          0.1382,\n          8.692\n        ],\n        \"semantic_type\": \"\",\n        \"description\": \"\"\n      }\n    },\n    {\n      \"column\": \"AP_Best\",\n      \"properties\": {\n        \"dtype\": \"number\",\n        \"std\": 305328.56674216304,\n        \"min\": -30500.0,\n        \"max\": 1330000.0,\n        \"num_unique_values\": 19,\n        \"samples\": [\n          3011.0,\n          1.488,\n          3.224\n        ],\n        \"semantic_type\": \"\",\n        \"description\": \"\"\n      }\n    },\n    {\n      \"column\": \"EP_Best\",\n      \"properties\": {\n        \"dtype\": \"number\",\n        \"std\": 680259.6940721833,\n        \"min\": -30550.0,\n        \"max\": 2965000.0,\n        \"num_unique_values\": 19,\n        \"samples\": [\n          2998.0,\n          263.9,\n          21.48\n        ],\n        \"semantic_type\": \"\",\n        \"description\": \"\"\n      }\n    },\n    {\n      \"column\": \"ITCH_Best\",\n      \"properties\": {\n        \"dtype\": \"number\",\n        \"std\": 680290.0591065515,\n        \"min\": -30510.0,\n        \"max\": 2965000.0,\n        \"num_unique_values\": 19,\n        \"samples\": [\n          2996.0,\n          263.9,\n          69.67\n        ],\n        \"semantic_type\": \"\",\n        \"description\": \"\"\n      }\n    }\n  ]\n}"
            }
          },
          "metadata": {},
          "execution_count": 9
        }
      ]
    },
    {
      "cell_type": "markdown",
      "source": [
        "### Determinando o rank de forma \"manual\""
      ],
      "metadata": {
        "id": "DzEA9-9GoGNS"
      }
    },
    {
      "cell_type": "code",
      "source": [
        "# Inicializa uma lista para armazenar os ranks\n",
        "rank_list = []\n",
        "\n",
        "# Itera sobre cada linha do DataFrame\n",
        "for index, row in df.iterrows():\n",
        "    # Calcula o rank da linha\n",
        "    ranks = row.rank(method='average')\n",
        "    # Adiciona os ranks à lista\n",
        "    rank_list.append(ranks.values)\n",
        "\n",
        "# Converte a lista de ranks para um np.array\n",
        "rank_array = np.array(rank_list)\n",
        "\n",
        "print(rank_array)"
      ],
      "metadata": {
        "colab": {
          "base_uri": "https://localhost:8080/"
        },
        "id": "53Lq7IpMhsNM",
        "outputId": "f1e24c5b-4377-464b-fbb1-bf3571b6c541"
      },
      "execution_count": null,
      "outputs": [
        {
          "output_type": "stream",
          "name": "stdout",
          "text": [
            "[[2.5 7.  5.5 5.5 8.  4.  2.5 1. ]\n",
            " [5.  7.  4.  1.  2.  6.  8.  3. ]\n",
            " [2.  7.  5.  8.  4.  6.  1.  3. ]\n",
            " [1.  8.  5.  2.  7.  3.  6.  4. ]\n",
            " [5.  4.  7.  1.  6.  8.  2.  3. ]\n",
            " [7.5 4.5 7.5 2.  4.5 1.  4.5 4.5]\n",
            " [8.  5.  4.  7.  6.  1.  2.5 2.5]\n",
            " [6.  6.  2.  6.  4.  8.  2.  2. ]\n",
            " [1.5 7.  5.  1.5 3.  8.  4.  6. ]\n",
            " [5.  7.  6.  1.  2.  8.  4.  3. ]\n",
            " [8.  6.  7.  2.  1.  5.  4.  3. ]\n",
            " [4.  5.  7.  1.5 1.5 3.  6.  8. ]\n",
            " [6.  5.  4.  8.  2.  1.  3.  7. ]\n",
            " [8.  6.  3.  7.  5.  4.  2.  1. ]\n",
            " [4.5 6.  4.5 8.  7.  1.  2.5 2.5]\n",
            " [3.  4.  7.  1.  8.  2.  5.5 5.5]\n",
            " [4.  4.  4.  4.  4.  4.  4.  8. ]\n",
            " [4.  5.  7.  8.  6.  3.  1.  2. ]\n",
            " [6.  6.  6.  2.  6.  6.  2.  2. ]]\n"
          ]
        }
      ]
    },
    {
      "cell_type": "markdown",
      "source": [
        "### Média de cada coluna"
      ],
      "metadata": {
        "id": "UzGv3EnToX-_"
      }
    },
    {
      "cell_type": "code",
      "source": [
        "# Calcula a média para cada coluna\n",
        "mean_values = np.mean(rank_array, axis=0)\n",
        "\n",
        "print(mean_values)"
      ],
      "metadata": {
        "colab": {
          "base_uri": "https://localhost:8080/"
        },
        "id": "-jgwVWKph9U5",
        "outputId": "1a114381-9149-4ee4-bf24-f9a68c541ddf"
      },
      "execution_count": null,
      "outputs": [
        {
          "output_type": "stream",
          "name": "stdout",
          "text": [
            "[4.78947368 5.76315789 5.28947368 4.02631579 4.57894737 4.31578947\n",
            " 3.5        3.73684211]\n"
          ]
        }
      ]
    },
    {
      "cell_type": "markdown",
      "source": [
        "### Aplicando o teste de Friedman"
      ],
      "metadata": {
        "id": "-2krmnlWodkD"
      }
    },
    {
      "cell_type": "code",
      "source": [
        "import numpy as np\n",
        "from scipy.stats import rankdata, wilcoxon, norm\n",
        "import pandas as pd\n",
        "from scipy.stats import friedmanchisquare\n",
        "dados = '/content/drive/MyDrive/Colab Notebooks/table2_Golcuk.csv'\n",
        "df = pd.read_csv(dados)\n",
        "df1 = df.to_numpy()\n",
        "df2 = df1.T"
      ],
      "metadata": {
        "id": "ld_f8XpLjKYm"
      },
      "execution_count": null,
      "outputs": []
    },
    {
      "cell_type": "code",
      "source": [
        "res_golcuk,pvalor_golcuk = friedmanchisquare(*df2)\n",
        "print(f\"Estatisca Friedman:{res_golcuk}\")\n",
        "print(f\"P valor:{pvalor_golcuk}\")"
      ],
      "metadata": {
        "colab": {
          "base_uri": "https://localhost:8080/"
        },
        "id": "Ba30e07il2dv",
        "outputId": "2be9bf85-f0a1-4fb4-e52a-f5d15ccfd86e"
      },
      "execution_count": null,
      "outputs": [
        {
          "output_type": "stream",
          "name": "stdout",
          "text": [
            "Estatisca Friedman:14.084620550705175\n",
            "P valor:0.049696601400498766\n"
          ]
        }
      ]
    },
    {
      "cell_type": "code",
      "source": [
        "from scipy.stats import norm\n",
        "\n",
        "# Suponha um valor Z (estatística do teste de Wilcoxon)\n",
        "Z = 3.08  # Exemplo de Z-score\n",
        "\n",
        "# Cálculo do p-valor (teste bicaudal)\n",
        "p_value = 2 * norm.sf(abs(Z))  # sf = 1 - cdf\n",
        "\n",
        "print(f\"Valor-p: {p_value:.7f}\")"
      ],
      "metadata": {
        "id": "nni0Fhp5mfD8",
        "colab": {
          "base_uri": "https://localhost:8080/"
        },
        "outputId": "36bcc1c7-3305-44fb-a209-19ed6dcf3976"
      },
      "execution_count": null,
      "outputs": [
        {
          "output_type": "stream",
          "name": "stdout",
          "text": [
            "Valor-p: 0.0020700\n"
          ]
        }
      ]
    },
    {
      "cell_type": "code",
      "source": [
        "def nemenyi(p,k):\n",
        "  m = k*(k-1)/2\n",
        "  v = m*p\n",
        "  return np.min([v,1])\n",
        "\n",
        "nemenyi(p_value,8)"
      ],
      "metadata": {
        "colab": {
          "base_uri": "https://localhost:8080/"
        },
        "id": "xbXRBKiERf_C",
        "outputId": "1e3519b2-c301-4435-a68c-ac0ecde98bc5"
      },
      "execution_count": null,
      "outputs": [
        {
          "output_type": "execute_result",
          "data": {
            "text/plain": [
              "0.05796016658895913"
            ]
          },
          "metadata": {},
          "execution_count": 39
        }
      ]
    },
    {
      "cell_type": "code",
      "source": [
        "import pandas as pd\n",
        "import numpy as np\n",
        "\n",
        "data = {\n",
        "    \"F1\": [1.234e-4, 0, 2.464, 8.420e-9, 3.402e1, 1.064, 7.716e-9, 8.260e-9, 8.416e-9],\n",
        "    \"F2\": [2.595e-2, 0, 1.180e2, 8.719e-5, 1.730, 5.282, 8.342e-9, 8.181e-9, 8.208e-9],\n",
        "    \"F3\": [5.174e4, 0, 2.699e5, 7.948e4, 1.844e5, 2.535e5, 4.233e1, 9.935e1, 6.560e3],\n",
        "    \"F4\": [2.488, 2.932e3, 9.190e1, 2.585e-3, 6.228, 5.755, 7.686e-9, 8.350e-9, 8.087e-9],\n",
        "    \"F5\": [4.095e2, 8.104e-10, 2.641e2, 1.343e2, 2.185, 1.443e1, 8.608e-9, 8.514e-9, 8.640e-9],\n",
        "    \"F6\": [7.310e2, 0, 1.416e6, 6.171, 1.145e2, 4.945e2, 7.956e-9, 8.391e-9, 1.612e-2],\n",
        "    \"F7\": [2.678e1, 1.267e3, 1.269e3, 1.271e3, 1.966e3, 1.908e3, 1.266e3, 1.265e3, 1.263e3],\n",
        "    \"F8\": [2.043e1, 2.001e1, 2.034e1, 2.037e1, 2.035e1, 2.036e1, 2.033e1, 2.038e1, 2.032e1],\n",
        "    \"F9\": [1.438e1, 2.841e1, 5.886, 7.286e-9, 4.195, 5.960, 4.546, 8.151e-9, 8.330e-9],\n",
        "    \"F10\":[1.404e1, 2.327e1, 7.123, 1.712e1, 1.239e1, 2.179e1, 1.228e1, 1.118e1, 1.548e1],\n",
        "    \"F11\":[5.590, 1.343, 1.599, 3.255, 2.929, 2.858, 2.434, 2.067, 6.796],\n",
        "    \"F12\":[ 6.362e2, 2.127e2, 7.062e2, 2.794e2, 1.506e2, 2.411e2, 1.061e2, 6.309e1, 5.634e1],\n",
        "    \"F13\":[ 1.503, 1.134, 8.297e1, 6.713e1, 3.245e1, 5.479e1, 1.573, 6.403e1, 7.070e1],\n",
        "    \"F14\":[ 3.304, 3.775, 2.073, 2.264, 2.796, 2.970, 3.073, 3.158, 3.415],\n",
        "    \"F15\":[ 3.398e2, 1.934e2, 2.751e2, 2.920e2, 1.136e2, 1.288e2 ,3.722e2, 2.940e2, 8.423e1],\n",
        "    \"F16\":[ 1.333e2, 1.170e2, 9.729e1, 1.053e2, 1.041e2, 1.134e2, 1.117e2, 1.125e2, 1.227e2],\n",
        "    \"F17\":[ 1.497e2, 3.389e2, 1.045e2, 1.185e2, 1.183e2, 1.279e2, 1.421e2, 1.312e2, 1.387e2],\n",
        "    \"F18\":[ 8.512e2, 5.570e2, 8.799e2, 8.063e2, 7.668e2, 6.578e2, 5.097e2, 4.482e2, 5.320e2],\n",
        "    \"F19\":[ 8.497e2, 5.292e2, 8.798e2, 8.899e2, 7.555e2, 7.010e2, 5.012e2, 4.341e2, 5.195e2],\n",
        "    \"F20\":[ 8.509e2, 5.264e2, 8.960e2, 8.893e2, 7.463e2, 6.411e2, 4.928e2, 4.188e2, 4.767e2],\n",
        "    \"F21\":[ 9.138e2, 4.420e2, 8.158e2, 8.522e2, 4.851e2, 5.005e2, 5.240e2, 5.420e2, 5.140e2],\n",
        "    \"F22\":[ 8.071e2, 7.647e2, 7.742e2, 7.519e2, 6.828e2, 6.941e2, 7.715e2, 7.720e2, 7.655e2],\n",
        "    \"F23\":[ 1.028e3, 8.539e2, 1.075e3, 1.004e3, 5.740e2, 5.828e2, 6.337e2, 5.824e2, 6.509e2],\n",
        "    \"F24\":[ 4.120e2, 6.101e2, 2.959e2, 2.360e2, 2.513e2, 2.011e2, 2.060e2, 2.020e2, 2.000e2],\n",
        "    \"F25\":[ 5.099e2, 1.818e3, 1.764e3, 1.747e3, 1.794e3, 1.804e3, 1.744e3, 1.742e3, 1.738e3]\n",
        "}\n",
        "\n",
        "df = pd.DataFrame(data)\n",
        "print(df)"
      ],
      "metadata": {
        "id": "Y2ebSJQ1f4Pa"
      },
      "execution_count": null,
      "outputs": []
    },
    {
      "cell_type": "code",
      "source": [
        "def z_score_fri(Ri,Rj,k,n):\n",
        "  z = np.abs((Ri-Rj))/(np.sqrt((k*(k+1))/(6*n)))\n",
        "  return z"
      ],
      "metadata": {
        "id": "YqqZuTdWLoQW"
      },
      "execution_count": null,
      "outputs": []
    },
    {
      "cell_type": "code",
      "source": [
        "z_score_fri(6.2895,2.31,8,19)"
      ],
      "metadata": {
        "colab": {
          "base_uri": "https://localhost:8080/"
        },
        "id": "MrR4FYv1L6A_",
        "outputId": "448ab714-f3ee-4340-b70d-1d2fd60fb709"
      },
      "execution_count": null,
      "outputs": [
        {
          "output_type": "execute_result",
          "data": {
            "text/plain": [
              "5.007427689193325"
            ]
          },
          "metadata": {},
          "execution_count": 17
        }
      ]
    }
  ]
}