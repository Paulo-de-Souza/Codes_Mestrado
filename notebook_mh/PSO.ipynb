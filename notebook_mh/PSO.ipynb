{
 "cells": [
  {
   "cell_type": "markdown",
   "metadata": {},
   "source": [
    "## PARTICLE SWARM OPTIMIZATION"
   ]
  },
  {
   "cell_type": "markdown",
   "metadata": {},
   "source": [
    "### Criando os valores iniciais"
   ]
  },
  {
   "cell_type": "code",
   "execution_count": 20,
   "metadata": {},
   "outputs": [
    {
     "name": "stdout",
     "output_type": "stream",
     "text": [
      "[[-0.91280868  0.32885209 -0.1236832 ]\n",
      " [ 1.18763982 -0.33039118  0.04996955]\n",
      " [ 0.88639592 -0.32021936  0.9992103 ]\n",
      " [ 1.97502424  0.71840068  0.60813022]\n",
      " [ 1.26816015  0.03501864  0.32081855]\n",
      " [ 0.7806263   0.60099776  0.82530489]\n",
      " [-0.48873293  1.94108863  0.48010514]\n",
      " [-0.2437123   0.83255145  0.60549947]\n",
      " [-0.02227901 -0.68153686  1.5018705 ]\n",
      " [-0.86828061 -0.37959069  1.77128969]]\n"
     ]
    },
    {
     "data": {
      "text/plain": [
       "array([[  34.4718763 ],\n",
       "       [ 303.45169256],\n",
       "       [ 202.7198493 ],\n",
       "       [1014.51374282],\n",
       "       [ 257.78527735],\n",
       "       [  21.59463877],\n",
       "       [1372.88484504],\n",
       "       [  62.09192307],\n",
       "       [ 155.17729917],\n",
       "       [ 396.75130923]])"
      ]
     },
     "execution_count": 20,
     "metadata": {},
     "output_type": "execute_result"
    }
   ],
   "source": [
    "import numpy as np\n",
    "import random\n",
    "\n",
    "lb = np.array([-1,-1,-1])\n",
    "ub = np.array([2,2,2])\n",
    "\n",
    "\n",
    "def fun_checkpositions(vec_pos,var_no_group,lb,ub):\n",
    "      Lb = lb\n",
    "      Ub = ub\n",
    "      for i in range(var_no_group):\n",
    "        is_below_lb = vec_pos[i] < Lb;\n",
    "        is_above_ub = vec_pos[i] > Ub;\n",
    "        vec_pos[i][is_below_lb] = Lb[is_below_lb]\n",
    "        vec_pos[i][is_above_ub] = Ub[is_above_ub]\n",
    "      return vec_pos\n",
    "\n",
    "\n",
    "def Fun(u):\n",
    "    z = (1-u[0])**2 + 100*(u[1] - u[0]**2)**2 + 100*(u[2] - u[1]**2)**2 \n",
    "    return z\n",
    "\n",
    "N = 10  # numero de particulas\n",
    "d = np.size(lb)\n",
    "k = 0\n",
    "kmax = 1000 # numero maximo de iteracoes\n",
    "\n",
    "c1 = 2 # constante cognitiva\n",
    "c2 = 2 # constante social\n",
    "\n",
    "## Inicializacao das particulas e velocidades\n",
    "x = np.zeros([N,d])\n",
    "v = np.zeros([N,d])\n",
    "Evolution = np.zeros((1,kmax))\n",
    "\n",
    "\n",
    "for i in range(N):\n",
    "    for j in range(d):\n",
    "        x[i][j] = random.random()*(ub[j]-lb[j])+lb[j]\n",
    "\n",
    "print(x)\n",
    "## Calculando as particulas iniciais na funcao objetivo\n",
    "fx = np.zeros([N,1])\n",
    "for i in range(N):\n",
    "    xi = x[i]\n",
    "    fx[i] = Fun(xi)\n",
    "\n",
    "fx"
   ]
  },
  {
   "cell_type": "code",
   "execution_count": 21,
   "metadata": {},
   "outputs": [
    {
     "name": "stdout",
     "output_type": "stream",
     "text": [
      "[[-0.91280868  0.32885209 -0.1236832 ]\n",
      " [ 1.18763982 -0.33039118  0.04996955]\n",
      " [ 0.88639592 -0.32021936  0.9992103 ]\n",
      " [ 1.97502424  0.71840068  0.60813022]\n",
      " [ 1.26816015  0.03501864  0.32081855]\n",
      " [ 0.7806263   0.60099776  0.82530489]\n",
      " [-0.48873293  1.94108863  0.48010514]\n",
      " [-0.2437123   0.83255145  0.60549947]\n",
      " [-0.02227901 -0.68153686  1.5018705 ]\n",
      " [-0.86828061 -0.37959069  1.77128969]]\n"
     ]
    },
    {
     "data": {
      "text/plain": [
       "array([[  34.4718763 ],\n",
       "       [ 303.45169256],\n",
       "       [ 202.7198493 ],\n",
       "       [1014.51374282],\n",
       "       [ 257.78527735],\n",
       "       [  21.59463877],\n",
       "       [1372.88484504],\n",
       "       [  62.09192307],\n",
       "       [ 155.17729917],\n",
       "       [ 396.75130923]])"
      ]
     },
     "execution_count": 21,
     "metadata": {},
     "output_type": "execute_result"
    }
   ],
   "source": [
    "## salvando a melhor particula global e a melhor localizacao das particulas\n",
    "gfit = np.min(fx)     # menor valor global\n",
    "ind = np.argmin(fx)   # indice do menor valor global\n",
    "g = x[ind]            # vetor de posicao do menor valor global \n",
    "fp  = fx              # melhor valor por posicao\n",
    "p = x                 # melhor posicao\n",
    "print(p)\n",
    "fp\n"
   ]
  },
  {
   "cell_type": "code",
   "execution_count": 22,
   "metadata": {},
   "outputs": [
    {
     "data": {
      "text/plain": [
       "array([0.99938735, 0.99938735, 0.99938735])"
      ]
     },
     "execution_count": 22,
     "metadata": {},
     "output_type": "execute_result"
    }
   ],
   "source": [
    "## Iniciando o processo iterativo\n",
    "for k in range(kmax):\n",
    "    #k = k + 1\n",
    "    ## Calculando as novas velocidades para cada particula\n",
    "    for i in range(N):\n",
    "        ## Extraindo as particulas\n",
    "        xi = x[i]\n",
    "        ## Extraindo a particula local\n",
    "        pi = p[i]\n",
    "        ## Determinando a nova velocidade para cada particula vi\n",
    "        v[i] = v[i] + c1*np.random.rand(1,d)@(pi-xi) + c2*np.random.rand(1,d)@(g-xi)\n",
    "    \n",
    "    ## Determinacao de nova posicao de cada particula\n",
    "    x = x+v\n",
    "    x = fun_checkpositions(x,N,lb,ub)\n",
    "    ## Determinando as novas particulas com a funcao objetivo\n",
    "    for i in range(N):\n",
    "        xi = x[i]\n",
    "        fx[i] = Fun(xi)\n",
    "    \n",
    "    ## Salvando a melhor particula e a melhor posicao da particula\n",
    "    gfitkplus1 = np.min(fx)\n",
    "    ind = np.argmin(fx)\n",
    "    if gfitkplus1 < gfit:\n",
    "        gfit = gfitkplus1\n",
    "        g = x[ind]\n",
    "    \n",
    "    for i in range(N):\n",
    "        # Se alguma particula for melhor que a da solucao anterior, atualizar a melhor posicao local\n",
    "        if fx[i] < fp[i]:\n",
    "            fp[i] = fx[i]\n",
    "            p[i] = x[i]\n",
    "\n",
    "    Evolution[0][k] = gfit\n",
    "    Xbest = g\n",
    "    Fbest = gfit\n",
    "\n",
    "Xbest"
   ]
  },
  {
   "cell_type": "markdown",
   "metadata": {},
   "source": [
    "### Funcao Completa"
   ]
  },
  {
   "cell_type": "code",
   "execution_count": 25,
   "metadata": {},
   "outputs": [],
   "source": [
    "import numpy as np\n",
    "import random\n",
    "\n",
    "def fun_checkpositions(vec_pos,var_no_group,lb,ub):\n",
    "      Lb = lb\n",
    "      Ub = ub\n",
    "      for i in range(var_no_group):\n",
    "        is_below_lb = vec_pos[i] < Lb;\n",
    "        is_above_ub = vec_pos[i] > Ub;\n",
    "        vec_pos[i][is_below_lb] = Lb[is_below_lb]\n",
    "        vec_pos[i][is_above_ub] = Ub[is_above_ub]\n",
    "      return vec_pos\n",
    "\n",
    "def myPSO(Fun,N,c1,c2,lb,ub,kmax):\n",
    "    d = np.size(lb)\n",
    "    k = 0\n",
    "    ## Inicializacao das particulas e velocidades\n",
    "    x = np.zeros([N,d])\n",
    "    v = np.zeros([N,d])\n",
    "    Evolution = np.zeros((1,kmax))\n",
    "\n",
    "    for i in range(N):\n",
    "        for j in range(d):\n",
    "            x[i][j] = random.random()*(ub[j]-lb[j])+lb[j]\n",
    "\n",
    "    ## Calculando as particulas iniciais na funcao objetivo\n",
    "    fx = np.zeros([N,1])\n",
    "    for i in range(N):\n",
    "        xi = x[i]\n",
    "        fx[i] = Fun(xi)\n",
    "\n",
    "    ## salvando a melhor particula global e a melhor localizacao das particulas\n",
    "    gfit = np.min(fx)     # menor valor global\n",
    "    ind = np.argmin(fx)   # indice do menor valor global\n",
    "    g = x[ind]            # vetor de posicao do menor valor global \n",
    "    fp  = fx              # melhor valor por posicao\n",
    "    p = x                 # melhor posicao\n",
    "\n",
    "    ## Iniciando o processo iterativo\n",
    "    for k in range(kmax):\n",
    "        #k = k + 1\n",
    "        ## Calculando as novas velocidades para cada particula\n",
    "        for i in range(N):\n",
    "            ## Extraindo as particulas\n",
    "            xi = x[i]\n",
    "            ## Extraindo a particula local\n",
    "            pi = p[i]\n",
    "            ## Determinando a nova velocidade para cada particula vi\n",
    "            v[i] = v[i] + c1*np.random.rand(1,d)@(pi-xi) + c2*np.random.rand(1,d)@(g-xi)\n",
    "        \n",
    "        ## Determinacao de nova posicao de cada particula\n",
    "        x = x+v\n",
    "        x = fun_checkpositions(x,N,lb,ub)\n",
    "        ## Determinando as novas particulas com a funcao objetivo\n",
    "        for i in range(N):\n",
    "            xi = x[i]\n",
    "            fx[i] = Fun(xi)\n",
    "        \n",
    "        ## Salvando a melhor particula e a melhor posicao da particula\n",
    "        gfitkplus1 = np.min(fx)\n",
    "        ind = np.argmin(fx)\n",
    "        if gfitkplus1 < gfit:\n",
    "            gfit = gfitkplus1\n",
    "            g = x[ind]\n",
    "        \n",
    "        for i in range(N):\n",
    "            # Se alguma particula for melhor que a da solucao anterior, atualizar a melhor posicao local\n",
    "            if fx[i] < fp[i]:\n",
    "                fp[i] = fx[i]\n",
    "                p[i] = x[i]\n",
    "\n",
    "        Evolution[0][k] = gfit\n",
    "        Xbest = g\n",
    "        Fbest = gfit\n",
    "    return Xbest, Fbest, Evolution\n"
   ]
  },
  {
   "cell_type": "markdown",
   "metadata": {},
   "source": [
    "### Resolucao de Problemas"
   ]
  },
  {
   "cell_type": "code",
   "execution_count": 27,
   "metadata": {},
   "outputs": [
    {
     "name": "stdout",
     "output_type": "stream",
     "text": [
      "Ponto Otimo: [0.99803906 0.99803906]\n",
      "Solucao Otima 0.0003868690673866875\n"
     ]
    },
    {
     "data": {
      "image/png": "[encoded data removed]",
      "text/plain": [
       "<Figure size 432x288 with 1 Axes>"
      ]
     },
     "metadata": {
      "needs_background": "light"
     },
     "output_type": "display_data"
    }
   ],
   "source": [
    "import matplotlib.pyplot as plt\n",
    "\n",
    "lb = np.array([-5,-5])\n",
    "ub = np.array([10,10])\n",
    "\n",
    "def Fun(x):\n",
    "  z = 100*(x[1]-x[0]**2)**2 + (x[0]-1)**2\n",
    "  return z\n",
    "\n",
    "N = 10  # numero de particulas\n",
    "N_max = 1000 # numero maximo de iteracoes\n",
    "c1 = 2 # constante cognitiva\n",
    "c2 = 2 # constante social\n",
    "\n",
    "best,fmin,conv_curve = myPSO(Fun,N,c1,c2,lb,ub,N_max)\n",
    "print(f\"Ponto Otimo: {best}\")\n",
    "print(f\"Solucao Otima {fmin}\")\n",
    "\n",
    "plt.semilogy(range(N_max), conv_curve[0])\n",
    "plt.xlabel('Número de Iterações')\n",
    "plt.ylabel('Valor da Melhor Solução (log)')\n",
    "plt.title('Curva de Convergência em Escala Logarítmica')\n",
    "plt.grid(True)\n",
    "plt.show()"
   ]
  },
  {
   "cell_type": "code",
   "execution_count": 30,
   "metadata": {},
   "outputs": [
    {
     "name": "stdout",
     "output_type": "stream",
     "text": [
      "Ponto Otimo: [0.99839899 0.99839899 0.99839899]\n",
      "Solucao Otima 0.0005135695815253985\n"
     ]
    },
    {
     "data": {
      "image/png": "[encoded data removed]",
      "text/plain": [
       "<Figure size 432x288 with 1 Axes>"
      ]
     },
     "metadata": {
      "needs_background": "light"
     },
     "output_type": "display_data"
    }
   ],
   "source": [
    "import matplotlib.pyplot as plt\n",
    "def Fun(u):\n",
    "    z = (1-u[0])**2 + 100*(u[1] - u[0]**2)**2 + 100*(u[2] - u[1]**2)**2 \n",
    "    return z\n",
    "\n",
    "N = 10  # numero de particulas\n",
    "N_max = 1000 # numero maximo de iteracoes\n",
    "c1 = 2 # constante cognitiva\n",
    "c2 = 2 # constante social\n",
    "lb = np.array([-1,-1,-1])\n",
    "ub = np.array([2,2,2])\n",
    "\n",
    "best,fmin,conv_curve = myPSO(Fun,N,c1,c2,lb,ub,N_max)\n",
    "\n",
    "print(f\"Ponto Otimo: {best}\")\n",
    "print(f\"Solucao Otima {fmin}\")\n",
    "\n",
    "plt.semilogy(range(N_max), conv_curve[0])\n",
    "plt.xlabel('Número de Iterações')\n",
    "plt.ylabel('Valor da Melhor Solução (log)')\n",
    "plt.title('Curva de Convergência em Escala Logarítmica')\n",
    "plt.grid(True)\n",
    "plt.show()\n"
   ]
  },
  {
   "cell_type": "code",
   "execution_count": 29,
   "metadata": {},
   "outputs": [
    {
     "name": "stdout",
     "output_type": "stream",
     "text": [
      "Ponto Otimo: [0.63757379]\n",
      "Solucao Otima -0.33290965152139285\n"
     ]
    },
    {
     "data": {
      "image/png": "[encoded data removed]",
      "text/plain": [
       "<Figure size 432x288 with 1 Axes>"
      ]
     },
     "metadata": {
      "needs_background": "light"
     },
     "output_type": "display_data"
    }
   ],
   "source": [
    "import sys\n",
    "sys.path.append('C:/Users/paulo/Documents/Mestrado/Projeto/Codes/problemas_selecionados')\n",
    "import problema3 as p3\n",
    "import matplotlib.pyplot as plt\n",
    "\n",
    "fobj = p3.func\n",
    "lb,ub = p3.constraint()\n",
    "\n",
    "N = 10  # numero de particulas\n",
    "N_max = 1000 # numero maximo de iteracoes\n",
    "c1 = 2 # constante cognitiva\n",
    "c2 = 2 # constante social\n",
    "\n",
    "best,fmin,conv_curve = myPSO(fobj,N,c1,c2,lb,ub,N_max)\n",
    "print(f\"Ponto Otimo: {best}\")\n",
    "print(f\"Solucao Otima {fmin}\")\n",
    "\n",
    "plt.plot(range(N_max), conv_curve[0])\n",
    "plt.xlabel('Número de Iterações')\n",
    "plt.ylabel('Valor da Melhor Solução (log)')\n",
    "plt.title('Curva de Convergência em Escala Logarítmica')\n",
    "plt.grid(True)\n",
    "plt.show()"
   ]
  }
 ],
 "metadata": {
  "kernelspec": {
   "display_name": "Python 3",
   "language": "python",
   "name": "python3"
  },
  "language_info": {
   "codemirror_mode": {
    "name": "ipython",
    "version": 3
   },
   "file_extension": ".py",
   "mimetype": "text/x-python",
   "name": "python",
   "nbconvert_exporter": "python",
   "pygments_lexer": "ipython3",
   "version": "3.9.6"
  },
  "orig_nbformat": 4
 },
 "nbformat": 4,
 "nbformat_minor": 2
}
