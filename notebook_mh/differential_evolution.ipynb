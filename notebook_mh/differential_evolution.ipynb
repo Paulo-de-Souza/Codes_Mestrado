{
 "cells": [
  {
   "cell_type": "markdown",
   "id": "7f861d55",
   "metadata": {},
   "source": [
    "# MONTANDO O ALGORITMO DIFFERENTIAL EVOLUTION"
   ]
  },
  {
   "cell_type": "markdown",
   "id": "bf59ba52",
   "metadata": {},
   "source": [
    "### Definindo alguns Pacotes, Constantes, Função de Teste, Pontos e Soluções Iniciais"
   ]
  },
  {
   "cell_type": "code",
   "execution_count": 1,
   "id": "1d69af92",
   "metadata": {},
   "outputs": [],
   "source": [
    "import numpy as np\n",
    "import random \n",
    "\n",
    "n = 10\n",
    "F = 0.7\n",
    "Cr = 0.9\n",
    "\n",
    "tol = 10**-5\n",
    "N_iter = 0\n",
    "\n",
    "lb = np.array([-1,-1,-1])\n",
    "ub = np.array([2,2,2])\n",
    "d = np.size(lb)\n",
    "\n",
    "def Fun(u):\n",
    "    z = (1-u[0])**2 + 100*(u[1] - u[0]**2)**2 + 100*(u[2] - u[1]**2)**2 \n",
    "    return z\n",
    "\n",
    "Sol = np.zeros((n,d))\n",
    "Fitness = np.zeros((n,1))\n",
    "\n",
    "for i in range(n):\n",
    "    for j in range(d):\n",
    "        Sol[i][j] = random.uniform(lb[j],ub[j])\n",
    "    Fitness[i][0] = Fun(Sol[i,:])\n"
   ]
  },
  {
   "cell_type": "code",
   "execution_count": 2,
   "id": "48a0bc2d",
   "metadata": {},
   "outputs": [
    {
     "name": "stdout",
     "output_type": "stream",
     "text": [
      "Pontos Iniciais\n",
      "[[ 0.2437747   1.69264857  1.89295309]\n",
      " [ 1.04862858  0.57781535  0.90517177]\n",
      " [ 1.01165184 -0.87495817  0.78056481]\n",
      " [ 0.40379706 -0.95800757  0.07483642]\n",
      " [-0.87598359  0.75223291 -0.73584722]\n",
      " [-0.87632817  0.06425502 -0.55966856]\n",
      " [ 0.54871388  0.81048212  0.05256839]\n",
      " [-0.33061283  1.16060126 -0.06544095]\n",
      " [-0.52594436  1.03221306  1.48593965]\n",
      " [-0.52474488  0.25557171 -0.45718561]]\n",
      "\n",
      "Solucoes Iniciais\n",
      "[[361.81246771]\n",
      " [ 59.86907684]\n",
      " [360.41402662]\n",
      " [197.08806398]\n",
      " [172.98485857]\n",
      " [ 84.82615689]\n",
      " [ 62.67141333]\n",
      " [311.79055684]\n",
      " [ 77.10097056]\n",
      " [ 29.66488076]]\n",
      "\n",
      "Menor valor: 29.66488075892575\n",
      "\n",
      "Melhor Ponto Inicial:\n"
     ]
    },
    {
     "data": {
      "text/plain": [
       "array([-0.52474488,  0.25557171, -0.45718561])"
      ]
     },
     "execution_count": 2,
     "metadata": {},
     "output_type": "execute_result"
    }
   ],
   "source": [
    "print(\"Pontos Iniciais\")\n",
    "print(Sol)\n",
    "print(\"\\nSolucoes Iniciais\")\n",
    "print(Fitness)\n",
    "print(f\"\\nMenor valor: {np.min(Fitness)}\")\n",
    "fmin = np.min(Fitness)\n",
    "I = np.argmin(Fitness)\n",
    "best = Sol[I]\n",
    "print(\"\\nMelhor Ponto Inicial:\")\n",
    "best"
   ]
  },
  {
   "cell_type": "markdown",
   "id": "471f9ee3",
   "metadata": {},
   "source": [
    "### Definindo os vetores de Permutacao\n",
    "\n",
    "O método DE escolhido foi o DE/rand/1/bin"
   ]
  },
  {
   "cell_type": "code",
   "execution_count": 3,
   "id": "b6cfa031",
   "metadata": {},
   "outputs": [
    {
     "data": {
      "text/plain": [
       "array([4, 3, 6, 0, 1, 9, 2, 7, 8, 5])"
      ]
     },
     "execution_count": 3,
     "metadata": {},
     "output_type": "execute_result"
    }
   ],
   "source": [
    "k1 = np.random.permutation(n)\n",
    "k1"
   ]
  },
  {
   "cell_type": "code",
   "execution_count": 4,
   "id": "1e3f0106",
   "metadata": {},
   "outputs": [
    {
     "data": {
      "text/plain": [
       "array([[-0.87598359,  0.75223291, -0.73584722],\n",
       "       [ 0.40379706, -0.95800757,  0.07483642],\n",
       "       [ 0.54871388,  0.81048212,  0.05256839],\n",
       "       [ 0.2437747 ,  1.69264857,  1.89295309],\n",
       "       [ 1.04862858,  0.57781535,  0.90517177],\n",
       "       [-0.52474488,  0.25557171, -0.45718561],\n",
       "       [ 1.01165184, -0.87495817,  0.78056481],\n",
       "       [-0.33061283,  1.16060126, -0.06544095],\n",
       "       [-0.52594436,  1.03221306,  1.48593965],\n",
       "       [-0.87632817,  0.06425502, -0.55966856]])"
      ]
     },
     "execution_count": 4,
     "metadata": {},
     "output_type": "execute_result"
    }
   ],
   "source": [
    "k1sol = Sol[k1,:]\n",
    "k1sol"
   ]
  },
  {
   "cell_type": "code",
   "execution_count": 5,
   "id": "8b996d8d",
   "metadata": {},
   "outputs": [
    {
     "data": {
      "text/plain": [
       "array([3, 4, 2, 9, 0, 1, 6, 8, 7, 5])"
      ]
     },
     "execution_count": 5,
     "metadata": {},
     "output_type": "execute_result"
    }
   ],
   "source": [
    "k2 = np.random.permutation(n)\n",
    "k2"
   ]
  },
  {
   "cell_type": "code",
   "execution_count": 6,
   "id": "9a02ba71",
   "metadata": {},
   "outputs": [
    {
     "data": {
      "text/plain": [
       "array([[ True,  True,  True],\n",
       "       [ True,  True,  True],\n",
       "       [ True,  True, False],\n",
       "       [ True,  True,  True],\n",
       "       [ True,  True,  True],\n",
       "       [ True,  True,  True],\n",
       "       [ True,  True,  True],\n",
       "       [ True,  True,  True],\n",
       "       [ True,  True,  True],\n",
       "       [ True,  True,  True]])"
      ]
     },
     "execution_count": 6,
     "metadata": {},
     "output_type": "execute_result"
    }
   ],
   "source": [
    "k2sol = Sol[k2,:]\n",
    "\n",
    "K = np.random.rand(n,d)<Cr\n",
    "K"
   ]
  },
  {
   "cell_type": "markdown",
   "id": "46dc7824",
   "metadata": {},
   "source": [
    "### Definindo o vetor de Mutacao e Realizando o Cruzamento"
   ]
  },
  {
   "cell_type": "code",
   "execution_count": 7,
   "id": "6e93b522",
   "metadata": {},
   "outputs": [
    {
     "data": {
      "text/plain": [
       "array([[-0.65207176,  2.88981691,  1.32547454],\n",
       "       [ 1.94447504, -0.61935298,  1.47265032],\n",
       "       [ 0.68759527,  0.30485004,  0.78056481],\n",
       "       [ 0.94176077,  0.04794623,  1.71993351],\n",
       "       [-0.31258587, -0.02815034, -1.42729414],\n",
       "       [-1.9776896 , -0.16131553, -1.51331873],\n",
       "       [ 0.87277045, -0.36932608,  0.56216588],\n",
       "       [-0.19388076,  1.250473  , -1.15140737],\n",
       "       [-0.66267643,  0.94234131,  2.57190608],\n",
       "       [-0.52474488,  0.25557171, -0.45718561]])"
      ]
     },
     "execution_count": 7,
     "metadata": {},
     "output_type": "execute_result"
    }
   ],
   "source": [
    "# Mutacao\n",
    "V = Sol + F*(k1sol-k2sol)\n",
    "# Cruzamento\n",
    "V = np.multiply(Sol,1-K) + np.multiply(V,K)\n",
    "V"
   ]
  },
  {
   "cell_type": "code",
   "execution_count": 8,
   "id": "ebdb2675",
   "metadata": {},
   "outputs": [],
   "source": [
    "# Obtendo a solucao do primeiro passo\n",
    "for i in range(n):\n",
    "    Fnew = Fun(V[i])\n",
    "    if Fnew <= Fitness[i]:\n",
    "        Sol[i] = V[i]\n",
    "        Fitness[i] = Fnew;\n",
    "        \n",
    "    if Fnew<=fmin:\n",
    "        best=V[i]\n",
    "        fmin=Fnew"
   ]
  },
  {
   "cell_type": "markdown",
   "id": "2a18ba34",
   "metadata": {},
   "source": [
    "## Código completo da DE"
   ]
  },
  {
   "cell_type": "code",
   "execution_count": 10,
   "id": "79612a2a",
   "metadata": {},
   "outputs": [],
   "source": [
    "import numpy as np\n",
    "import random \n",
    "\n",
    "def fun_checkpositions(vec_pos,var_no_group,lb,ub):\n",
    "  Lb = lb\n",
    "  Ub = ub\n",
    "  for i in range(var_no_group):\n",
    "    is_below_lb = vec_pos[i] < Lb;\n",
    "    is_above_ub = vec_pos[i] > Ub;\n",
    "    vec_pos[i][is_below_lb] = Lb[is_below_lb]\n",
    "    vec_pos[i][is_above_ub] = Ub[is_above_ub]\n",
    "  return vec_pos\n",
    "\n",
    "def myDE(Fun,n,F,Cr,lb,ub,N_max):\n",
    "    N_iter = 0\n",
    "    d = np.size(lb)\n",
    "    Convergence_curve = np.zeros((1,N_max))\n",
    "    Sol = np.zeros((n,d))\n",
    "    Fitness = np.zeros((n,1))\n",
    "    \n",
    "    for i in range(n):\n",
    "        for j in range(d):\n",
    "            Sol[i][j] = random.uniform(lb[j],ub[j])\n",
    "        Fitness[i][0] = Fun(Sol[i,:])\n",
    "\n",
    "    fmin = np.min(Fitness)\n",
    "    I = np.argmin(Fitness)\n",
    "    best = Sol[I]\n",
    "\n",
    "    while N_iter<N_max:\n",
    "        # mutacao\n",
    "        k1 = np.random.permutation(n)\n",
    "        k1sol = Sol[k1,:]\n",
    "        k2 = np.random.permutation(n)\n",
    "        k2sol = Sol[k2,:]\n",
    "        V = Sol + F*(k1sol-k2sol)\n",
    "        \n",
    "        # cruzamento\n",
    "        K = np.random.rand(n,d)<Cr\n",
    "        V = np.multiply(Sol,1-K) + np.multiply(V,K)       \n",
    "        V = fun_checkpositions(V,n,lb,ub)\n",
    "\n",
    "    ## ESSE FINAL PRECISA SER MODIFICADO\n",
    "        for i in range(n):\n",
    "            Fnew = Fun(V[i])\n",
    "            if Fnew <= Fitness[i]:\n",
    "                Sol[i] = V[i]\n",
    "                Fitness[i] = Fnew;\n",
    "\n",
    "            if Fnew<=fmin:\n",
    "                best=V[i]\n",
    "                fmin=Fnew\n",
    "                \n",
    "        Convergence_curve[0][N_iter]=fmin;\n",
    "        N_iter = N_iter + 1\n",
    "    return best,fmin,Convergence_curve"
   ]
  },
  {
   "cell_type": "markdown",
   "id": "3e6a381a",
   "metadata": {},
   "source": [
    "### TESTANDO A FUNCAO CRIADA\n",
    "\n",
    "A equação de teste é a de Roosenbrock 3D, cujo o mínimo é no ponto [1,1,1]\n",
    "\n",
    "$$z = (1-u_0)^2 + 100(u_1 - u_0^2)^2 + 100(u_2 - u_1^2)^2$$"
   ]
  },
  {
   "cell_type": "code",
   "execution_count": 11,
   "id": "1d67f106",
   "metadata": {},
   "outputs": [
    {
     "name": "stdout",
     "output_type": "stream",
     "text": [
      "Ponto Otimo: [1. 1. 1.]\n",
      "Solucao Otima 4.586633089480213e-22\n"
     ]
    },
    {
     "data": {
      "image/png": "[encoded data removed]",
      "text/plain": [
       "<Figure size 432x288 with 1 Axes>"
      ]
     },
     "metadata": {
      "needs_background": "light"
     },
     "output_type": "display_data"
    }
   ],
   "source": [
    "import matplotlib.pyplot as plt\n",
    "n = 10\n",
    "F = 0.7\n",
    "Cr = 0.9\n",
    "N_max = 1000\n",
    "\n",
    "lb = np.array([-1,-1,-1])\n",
    "ub = np.array([2,2,2])\n",
    "\n",
    "def Fun(u):\n",
    "    z = (1-u[0])**2 + 100*(u[1] - u[0]**2)**2 + 100*(u[2] - u[1]**2)**2 \n",
    "    return z\n",
    "\n",
    "best,fmin,conv_curve = myDE(Fun,n,F,Cr,lb,ub,N_max)\n",
    "\n",
    "print(f\"Ponto Otimo: {best}\")\n",
    "print(f\"Solucao Otima {fmin}\")\n",
    "\n",
    "plt.semilogy(range(N_max), conv_curve[0])\n",
    "plt.xlabel('Número de Iterações')\n",
    "plt.ylabel('Valor da Melhor Solução (log)')\n",
    "plt.title('Curva de Convergência em Escala Logarítmica')\n",
    "plt.grid(True)\n",
    "plt.show()"
   ]
  }
 ],
 "metadata": {
  "kernelspec": {
   "display_name": "Python 3",
   "language": "python",
   "name": "python3"
  },
  "language_info": {
   "codemirror_mode": {
    "name": "ipython",
    "version": 3
   },
   "file_extension": ".py",
   "mimetype": "text/x-python",
   "name": "python",
   "nbconvert_exporter": "python",
   "pygments_lexer": "ipython3",
   "version": "3.9.6"
  }
 },
 "nbformat": 4,
 "nbformat_minor": 5
}
