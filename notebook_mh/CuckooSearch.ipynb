{
 "cells": [
  {
   "cell_type": "markdown",
   "metadata": {},
   "source": [
    "# Cuckoo Search"
   ]
  },
  {
   "cell_type": "code",
   "execution_count": 128,
   "metadata": {},
   "outputs": [],
   "source": [
    "import numpy as np\n",
    "import random\n",
    "from math import gamma\n",
    "\n",
    "lb = np.array([-5,-5,-5])\n",
    "ub = np.array([5,5,5])\n",
    "\n",
    "# minha simplebounds\n",
    "def fun_checkpositions(vec_pos,var_no_group,lb,ub):\n",
    "      Lb = lb\n",
    "      Ub = ub\n",
    "      for i in range(var_no_group):\n",
    "        is_below_lb = vec_pos[i] < Lb;\n",
    "        is_above_ub = vec_pos[i] > Ub;\n",
    "        vec_pos[i][is_below_lb] = Lb[is_below_lb]\n",
    "        vec_pos[i][is_above_ub] = Ub[is_above_ub]\n",
    "      return vec_pos\n",
    "\n",
    "# minha empty nest\n",
    "def empty_nests(nest,lb,ub,pa):\n",
    "    n = np.size(nest,0)   #numero de linhas do nest\n",
    "    r = np.size(nest,1)   #numero de colunas de nest\n",
    "    K = np.random.rand(n,r) > pa\n",
    "  \n",
    "    stepsize = np.random.rand(1)*(nest[np.random.permutation(n)] - nest[np.random.permutation(n)])\n",
    "    new_nest1 = nest + np.multiply(stepsize,K*1)\n",
    "    new_nest1 = fun_checkpositions(new_nest1,n,lb,ub)\n",
    "    return new_nest1\n",
    "\n",
    "# minha get_best_nest\n",
    "def get_best_nest(Fun,nest,newnest,fitness):\n",
    "    for j in np.size(nest,0):\n",
    "        fnew = Fun(newnest[j])\n",
    "        if fnew < fitness[j]:\n",
    "            fitness[j] = fnew\n",
    "            nest[j] = newnest[j]\n",
    "    \n",
    "    fmin = np.min(fitness)\n",
    "    K = np.argmin(fitness)\n",
    "    best = nest[K]\n",
    "    return fmin,best,nest,fitness\n",
    "\n",
    "\n",
    "def get_cukoos(nest,best,lb,ub):\n",
    "    n = np.size(nest,0)\n",
    "    m = np.size(nest,1)\n",
    "    beta = 3/2\n",
    "    sigma = (((gamma(1+beta)*np.sin(np.pi*beta/2)))/(gamma((1+beta)/2)*beta*(2**(beta/2 - 0.5))))**(1/beta)\n",
    "    for j in range(n):\n",
    "        s = nest[j]\n",
    "        u = np.random.randn(1,m) * sigma\n",
    "        v = np.random.randn(1,m)\n",
    "        step = u/((np.abs(v))**1/beta)\n",
    "        stepsize = 0.01*np.multiply(step,(s-best))\n",
    "        s = s+np.multiply(stepsize,np.random.randn(1,m))\n",
    "\n",
    "    nest = fun_checkpositions(s,n,lb,ub)\n",
    "\n",
    "    return \n",
    "    \n",
    "\n",
    "\n",
    "\n",
    "\n",
    "\n",
    "def Fun(u):\n",
    "    z = (1-u[0])**2 + 100*(u[1] - u[0]**2)**2 + 100*(u[2] - u[1]**2)**2 \n",
    "    return z\n",
    "\n",
    "\n"
   ]
  },
  {
   "cell_type": "code",
   "execution_count": 135,
   "metadata": {},
   "outputs": [
    {
     "name": "stdout",
     "output_type": "stream",
     "text": [
      "[[ 0.03345366 -0.07983372 -0.29967428]]\n"
     ]
    },
    {
     "data": {
      "text/plain": [
       "array([5, 5, 5])"
      ]
     },
     "execution_count": 135,
     "metadata": {},
     "output_type": "execute_result"
    }
   ],
   "source": [
    "nest = np.array([[10,4,13],[2,3,-13],[-15,7,-28],[-11,3,5]])\n",
    "lb = np.array([-5,-5,-5])\n",
    "ub = np.array([5,5,10])\n",
    "\n",
    "new_nest1 = np.random.randn(1,3)\n",
    "\n",
    "print(new_nest1)\n",
    "\n",
    "np.abs(lb)"
   ]
  },
  {
   "cell_type": "code",
   "execution_count": 130,
   "metadata": {},
   "outputs": [
    {
     "data": {
      "text/plain": [
       "0.6965745025576967"
      ]
     },
     "execution_count": 130,
     "metadata": {},
     "output_type": "execute_result"
    }
   ],
   "source": [
    "beta = 3/2\n",
    "sigma = (((gamma(1+beta)*np.sin(np.pi*beta/2)))/(gamma((1+beta)/2)*beta*(2**(beta/2 - 0.5))))**(1/beta)\n",
    "sigma"
   ]
  }
 ],
 "metadata": {
  "kernelspec": {
   "display_name": "Python 3",
   "language": "python",
   "name": "python3"
  },
  "language_info": {
   "codemirror_mode": {
    "name": "ipython",
    "version": 3
   },
   "file_extension": ".py",
   "mimetype": "text/x-python",
   "name": "python",
   "nbconvert_exporter": "python",
   "pygments_lexer": "ipython3",
   "version": "3.9.6"
  },
  "orig_nbformat": 4
 },
 "nbformat": 4,
 "nbformat_minor": 2
}
