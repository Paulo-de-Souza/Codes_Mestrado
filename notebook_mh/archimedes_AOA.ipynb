{
 "cells": [
  {
   "cell_type": "markdown",
   "metadata": {},
   "source": [
    "## ARCHIMEDES OPTIMIZATION ALGORITHM"
   ]
  },
  {
   "cell_type": "code",
   "execution_count": 1,
   "metadata": {},
   "outputs": [],
   "source": [
    "import numpy as np\n",
    "import random\n",
    "\n",
    "C1=2;\n",
    "C2=6;\n",
    "u=0.9;\n",
    "l=0.1;\n",
    "\n",
    "materials_no = 30\n",
    "Max_iter = 1000\n",
    "C3=2;C4=.5;\n",
    "\n",
    "lb = np.array([-1,-1,-1])\n",
    "ub = np.array([2,2,2])\n",
    "\n",
    "dub = np.size(lb)\n",
    "X = np.zeros((materials_no,dub))\n",
    "acc = np.zeros((materials_no,dub))\n",
    "den = np.zeros((materials_no,dub))\n",
    "vol = np.zeros((materials_no,dub))\n",
    "Y = np.zeros((materials_no,1))\n",
    "\n",
    "def Fun(u):\n",
    "    z = (1-u[0])**2 + 100*(u[1] - u[0]**2)**2 + 100*(u[2] - u[1]**2)**2 \n",
    "    return z\n",
    "\n",
    "for j in range(materials_no):\n",
    "    for k in range(len(lb)):\n",
    "        X[j][k]   =  random.uniform(lb[k],ub[k])\n",
    "        acc[j][k] = (random.uniform(lb[k],ub[k]))\n",
    "        den[j][k] = (random.random())\n",
    "        vol[j][k] = (random.random())\n",
    "        Y[j][0] = Fun(X[j,:])"
   ]
  },
  {
   "cell_type": "code",
   "execution_count": 2,
   "metadata": {},
   "outputs": [],
   "source": [
    "Scorebest = np.min(Y)\n",
    "Score_index = np.argmin(Y)\n",
    "Xbest = X[Score_index]\n",
    "den_best=den[Score_index][:];\n",
    "vol_best=vol[Score_index];\n",
    "acc_best=acc[Score_index];\n",
    "acc_norm=acc;\n",
    "acc_temp = np.zeros((materials_no, len(den[0])))\n",
    "X_new = np.zeros((materials_no, len(den[0])))\n",
    "Convergence_curve = np.zeros((1,Max_iter))"
   ]
  },
  {
   "cell_type": "code",
   "execution_count": 3,
   "metadata": {},
   "outputs": [],
   "source": [
    "for t in range(Max_iter):\n",
    "    TF = np.exp((t+1-Max_iter)/(Max_iter))\n",
    "    if TF > 1:\n",
    "      TF = 1\n",
    "    d=np.exp((Max_iter-t)/Max_iter)-(t/Max_iter)\n",
    "    acc=acc_norm\n",
    "    r=random.random()\n",
    "    for i in range(materials_no):\n",
    "      den[i][:] = np.array(den[i][:]) + r*(den_best-np.array(den[i][:]))\n",
    "      vol[i][:] = np.array(vol[i][:]) + r*(vol_best-np.array(vol[i][:]))\n",
    "      if TF < 0.5:\n",
    "        mr = random.randint(0,materials_no-1)\n",
    "        acc_temp[i][:] = np.divide((np.array(den[mr][:]) + np.multiply(np.array(vol[mr][:]),np.array(acc[mr][:]))), (random.random() * np.multiply(np.array(den[mr][:]), np.array(vol[mr][:]))))  # Eq. (10)\n",
    "      else:\n",
    "        acc_temp[i][:] = np.divide((den_best + np.multiply(vol_best, acc_best)),(random.random()*np.multiply(np.array(den[i][:]), np.array(vol[i][:])))) # Eq. (11)\n",
    "        #print(acc_temp)\n",
    "    acc_norm = np.divide(u*(acc_temp-np.min(acc_temp)),(np.max(acc_temp)-np.min(acc_temp)))+l\n",
    "    for i in range(materials_no):\n",
    "      if TF < 0.5:\n",
    "        for j in range(len(lb)):\n",
    "          mrand = random.randint(0,materials_no-1)\n",
    "          X_new[i][j] = X[i][j]+C1*random.random()*np.multiply(acc_norm[i][j],(X[mrand][j]-X[i][j]))*d;  # Eq. (13)\n",
    "      else:\n",
    "        for j in range(len(lb)):\n",
    "          p = 2*random.random()-C4\n",
    "          T = C3*TF\n",
    "          if T > 1:\n",
    "            T=1\n",
    "          if p<.5:\n",
    "            X_new[i][j] = np.array(Xbest[j]) + C2*random.random()*np.multiply(np.array(acc_norm[i][j]),T*np.array(Xbest[j])-np.array(X[i][j]))*d\n",
    "          else:\n",
    "            X_new[i][j] = np.array(Xbest[j]) - C2*random.random()*np.multiply(np.array(acc_norm[i][j]),T*np.array(Xbest[j])-np.array(X[i][j]))*d\n"
   ]
  },
  {
   "cell_type": "code",
   "execution_count": 4,
   "metadata": {},
   "outputs": [],
   "source": [
    "import numpy as np\n",
    "import random\n",
    "# MINHA VERSAO 2\n",
    "def AOA(f,materials_no,Max_iter,lb,ub,C3,C4):\n",
    "  C1=2;\n",
    "  C2=6;\n",
    "  u=0.9;\n",
    "  l=0.1;\n",
    "\n",
    "  def fun_checkpositions(vec_pos,var_no_group,lb,ub):\n",
    "      Lb = lb\n",
    "      Ub = ub\n",
    "      for i in range(var_no_group):\n",
    "        is_below_lb = vec_pos[i] < Lb;\n",
    "        is_above_ub = vec_pos[i] > Ub;\n",
    "        vec_pos[i][is_below_lb] = Lb[is_below_lb]\n",
    "        vec_pos[i][is_above_ub] = Ub[is_above_ub]\n",
    "      return vec_pos\n",
    "\n",
    "  dub = np.size(lb)\n",
    "  X = np.zeros((materials_no,dub))\n",
    "  acc = np.zeros((materials_no,dub))\n",
    "  den = np.zeros((materials_no,dub))\n",
    "  vol = np.zeros((materials_no,dub))\n",
    "  Y = np.zeros((materials_no,1))\n",
    "  for j in range(materials_no):\n",
    "    for k in range(len(lb)):\n",
    "      X[j][k]   =  random.uniform(lb[k],ub[k])\n",
    "      acc[j][k] = (random.uniform(lb[k],ub[k]))\n",
    "      den[j][k] = (random.random())\n",
    "      vol[j][k] = (random.random())\n",
    "      Y[j][0] = f(X[j,:])\n",
    "\n",
    "  Scorebest = np.min(Y)\n",
    "  Score_index = np.argmin(Y)\n",
    "  Xbest = X[Score_index]\n",
    "  den_best=den[Score_index][:];\n",
    "  vol_best=vol[Score_index];\n",
    "  acc_best=acc[Score_index];\n",
    "  acc_norm=acc;\n",
    "  acc_temp = np.zeros((materials_no, len(den[0])))\n",
    "  X_new = np.zeros((materials_no, len(den[0])))\n",
    "  Convergence_curve = np.zeros((1,Max_iter))\n",
    "\n",
    "  for t in range(Max_iter):\n",
    "    TF = np.exp((t+1-Max_iter)/(Max_iter))\n",
    "    if TF > 1:\n",
    "      TF = 1\n",
    "    d=np.exp((Max_iter-t)/Max_iter)-(t/Max_iter)\n",
    "    acc=acc_norm\n",
    "    r=random.random()\n",
    "    for i in range(materials_no):\n",
    "      den[i][:] = np.array(den[i][:]) + r*(den_best-np.array(den[i][:]))\n",
    "      vol[i][:] = np.array(vol[i][:]) + r*(vol_best-np.array(vol[i][:]))\n",
    "      if TF < 0.5:\n",
    "        mr = random.randint(0,materials_no-1)\n",
    "        acc_temp[i][:] = np.divide((np.array(den[mr][:]) + np.multiply(np.array(vol[mr][:]),np.array(acc[mr][:]))), (random.random() * np.multiply(np.array(den[mr][:]), np.array(vol[mr][:]))))  # Eq. (10)\n",
    "      else:\n",
    "        acc_temp[i][:] = np.divide((den_best + np.multiply(vol_best, acc_best)),(random.random()*np.multiply(np.array(den[i][:]), np.array(vol[i][:])))) # Eq. (11)\n",
    "        #print(acc_temp)\n",
    "    acc_norm = np.divide(u*(acc_temp-np.min(acc_temp)),(np.max(acc_temp)-np.min(acc_temp)))+l\n",
    "    for i in range(materials_no):\n",
    "      if TF < 0.5:\n",
    "        for j in range(len(lb)):\n",
    "          mrand = random.randint(0,materials_no-1)\n",
    "          X_new[i][j] = X[i][j]+C1*random.random()*np.multiply(acc_norm[i][j],(X[mrand][j]-X[i][j]))*d;  # Eq. (13)\n",
    "      else:\n",
    "        for j in range(len(lb)):\n",
    "          p = 2*random.random()-C4\n",
    "          T = C3*TF\n",
    "          if T > 1:\n",
    "            T=1\n",
    "          if p<.5:\n",
    "            X_new[i][j] = np.array(Xbest[j]) + C2*random.random()*np.multiply(np.array(acc_norm[i][j]),T*np.array(Xbest[j])-np.array(X[i][j]))*d\n",
    "          else:\n",
    "            X_new[i][j] = np.array(Xbest[j]) - C2*random.random()*np.multiply(np.array(acc_norm[i][j]),T*np.array(Xbest[j])-np.array(X[i][j]))*d\n",
    "\n",
    "    X_new = fun_checkpositions(X_new,materials_no,lb,ub)\n",
    "    for i in range(materials_no):\n",
    "      v = f(X_new[i])\n",
    "      if v < Y[i]:\n",
    "        X[i] = X_new[i]\n",
    "        Y[i] = v\n",
    "\n",
    "    var_Ybest = np.min(Y)\n",
    "    var_index = np.argmin(Y)\n",
    "    Convergence_curve[0][t]=var_Ybest;\n",
    "    if var_Ybest < Scorebest:\n",
    "      Scorebest = var_Ybest\n",
    "      Score_index = var_index\n",
    "      Xbest = X[var_index][:]\n",
    "      den_best = den[Score_index][:]\n",
    "      vol_best = vol[Score_index][:]\n",
    "      acc_best = acc[Score_index][:]\n",
    "  return Xbest, Scorebest, Convergence_curve\n",
    "\n",
    "\n",
    "\n"
   ]
  },
  {
   "cell_type": "markdown",
   "metadata": {},
   "source": [
    "### RESOLUCAO DE PROBLEMAS"
   ]
  },
  {
   "cell_type": "code",
   "execution_count": 5,
   "metadata": {},
   "outputs": [
    {
     "name": "stdout",
     "output_type": "stream",
     "text": [
      "Ponto Otimo: [1. 1.]\n",
      "Solucao Otima 2.1466181832833737e-21\n"
     ]
    },
    {
     "data": {
      "image/png": "[encoded data removed]",
      "text/plain": [
       "<Figure size 432x288 with 1 Axes>"
      ]
     },
     "metadata": {
      "needs_background": "light"
     },
     "output_type": "display_data"
    }
   ],
   "source": [
    "import matplotlib.pyplot as plt\n",
    "\n",
    "materials_no = 50\n",
    "N_max = 500\n",
    "C3=2;C4=.5;\n",
    "\n",
    "lb = np.array([-5,-5])\n",
    "ub = np.array([10,10])\n",
    "\n",
    "def Fun(x):\n",
    "  z = 100*(x[1]-x[0]**2)**2 + (x[0]-1)**2\n",
    "  return z\n",
    "\n",
    "best,fmin,conv_curve = AOA(Fun,materials_no,N_max,lb,ub,C3,C4)\n",
    "\n",
    "print(f\"Ponto Otimo: {best}\")\n",
    "print(f\"Solucao Otima {fmin}\")\n",
    "\n",
    "plt.semilogy(range(N_max), conv_curve[0])\n",
    "plt.xlabel('Número de Iterações')\n",
    "plt.ylabel('Valor da Melhor Solução (log)')\n",
    "plt.title('Curva de Convergência em Escala Logarítmica')\n",
    "plt.grid(True)\n",
    "plt.show()"
   ]
  },
  {
   "cell_type": "code",
   "execution_count": 6,
   "metadata": {},
   "outputs": [
    {
     "name": "stdout",
     "output_type": "stream",
     "text": [
      "Ponto Otimo: [1.00767809 1.01544239 1.03112512]\n",
      "Solucao Otima 5.9027717115860464e-05\n"
     ]
    },
    {
     "data": {
      "image/png": "[encoded data removed]",
      "text/plain": [
       "<Figure size 432x288 with 1 Axes>"
      ]
     },
     "metadata": {
      "needs_background": "light"
     },
     "output_type": "display_data"
    }
   ],
   "source": [
    "import matplotlib.pyplot as plt\n",
    "\n",
    "materials_no = 100\n",
    "N_max = 1000\n",
    "C3=2;C4=.5;\n",
    "\n",
    "lb = np.array([-1,-1,-1])\n",
    "ub = np.array([2,2,2])\n",
    "\n",
    "def Fun(u):\n",
    "    z = (1-u[0])**2 + 100*(u[1] - u[0]**2)**2 + 100*(u[2] - u[1]**2)**2 \n",
    "    return z\n",
    "\n",
    "best,fmin,conv_curve = AOA(Fun,materials_no,N_max,lb,ub,C3,C4)\n",
    "\n",
    "print(f\"Ponto Otimo: {best}\")\n",
    "print(f\"Solucao Otima {fmin}\")\n",
    "\n",
    "plt.semilogy(range(N_max), conv_curve[0])\n",
    "plt.xlabel('Número de Iterações')\n",
    "plt.ylabel('Valor da Melhor Solução (log)')\n",
    "plt.title('Curva de Convergência em Escala Logarítmica')\n",
    "plt.grid(True)\n",
    "plt.show()"
   ]
  },
  {
   "cell_type": "code",
   "execution_count": 7,
   "metadata": {},
   "outputs": [
    {
     "name": "stdout",
     "output_type": "stream",
     "text": [
      "Ponto Otimo: [0.63737744]\n",
      "Solucao Otima -0.33290966828418045\n"
     ]
    },
    {
     "data": {
      "image/png": "[encoded data removed]",
      "text/plain": [
       "<Figure size 432x288 with 1 Axes>"
      ]
     },
     "metadata": {
      "needs_background": "light"
     },
     "output_type": "display_data"
    }
   ],
   "source": [
    "\n",
    "import sys\n",
    "sys.path.append('C:/Users/paulo/Documents/Mestrado/Projeto/Codes/problemas_selecionados')\n",
    "import problema3 as p3\n",
    "import matplotlib.pyplot as plt\n",
    "\n",
    "materials_no = 100\n",
    "N_max = 1000\n",
    "C3=2;C4=.5;\n",
    "\n",
    "fobj = p3.func\n",
    "lb,ub = p3.constraint()\n",
    "best,fmin,conv_curve = AOA(fobj,materials_no,N_max,lb,ub,C3,C4)\n",
    "\n",
    "print(f\"Ponto Otimo: {best}\")\n",
    "print(f\"Solucao Otima {fmin}\")\n",
    "\n",
    "plt.plot(range(N_max), conv_curve[0])\n",
    "plt.xlabel('Número de Iterações')\n",
    "plt.ylabel('Valor da Melhor Solução (log)')\n",
    "plt.title('Curva de Convergência')\n",
    "plt.grid(True)\n",
    "plt.show()"
   ]
  },
  {
   "cell_type": "code",
   "execution_count": 11,
   "metadata": {},
   "outputs": [
    {
     "name": "stderr",
     "output_type": "stream",
     "text": [
      "C:\\Users/paulo/Documents/Mestrado/Projeto/Codes/problemas_selecionados\\problema11.py:18: RuntimeWarning: divide by zero encountered in double_scalars\n",
      "  g3 = 1 - (140.45*x1)/(x2**2*x3)\n"
     ]
    },
    {
     "name": "stdout",
     "output_type": "stream",
     "text": [
      "Ponto Otimo: [0.05      0.6076142 2.       ]\n",
      "Solucao Otima 0.006076141973704577\n"
     ]
    },
    {
     "data": {
      "image/png": "[encoded data removed]",
      "text/plain": [
       "<Figure size 432x288 with 1 Axes>"
      ]
     },
     "metadata": {
      "needs_background": "light"
     },
     "output_type": "display_data"
    }
   ],
   "source": [
    "import sys\n",
    "sys.path.append('C:/Users/paulo/Documents/Mestrado/Projeto/Codes/problemas_selecionados')\n",
    "import problema11 as p11\n",
    "import matplotlib.pyplot as plt\n",
    "\n",
    "materials_no = 50\n",
    "N_max = 1000\n",
    "#C3=2;C4=.5;\n",
    "C3 = 1; C4 =2;\n",
    "\n",
    "fobj = p11.func\n",
    "lb,ub = p11.constraint()\n",
    "best,fmin,conv_curve = AOA(fobj,materials_no,N_max,lb,ub,C3,C4)\n",
    "\n",
    "print(f\"Ponto Otimo: {best}\")\n",
    "print(f\"Solucao Otima {fmin}\")\n",
    "\n",
    "plt.plot(range(N_max), conv_curve[0])\n",
    "plt.xlabel('Número de Iterações')\n",
    "plt.ylabel('Valor da Melhor Solução (log)')\n",
    "plt.title('Curva de Convergência')\n",
    "plt.grid(True)\n",
    "plt.show()"
   ]
  }
 ],
 "metadata": {
  "kernelspec": {
   "display_name": "Python 3",
   "language": "python",
   "name": "python3"
  },
  "language_info": {
   "codemirror_mode": {
    "name": "ipython",
    "version": 3
   },
   "file_extension": ".py",
   "mimetype": "text/x-python",
   "name": "python",
   "nbconvert_exporter": "python",
   "pygments_lexer": "ipython3",
   "version": "3.9.6"
  },
  "orig_nbformat": 4
 },
 "nbformat": 4,
 "nbformat_minor": 2
}
