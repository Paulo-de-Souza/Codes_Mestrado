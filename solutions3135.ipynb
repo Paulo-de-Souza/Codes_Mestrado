{
 "cells": [
  {
   "cell_type": "markdown",
   "id": "07bbb70f",
   "metadata": {},
   "source": [
    "## APLICANDO NOS PROBLEMAS SELECIONADOS (31 À 35)"
   ]
  },
  {
   "cell_type": "code",
   "execution_count": 1,
   "id": "5840fb2a",
   "metadata": {},
   "outputs": [],
   "source": [
    "### BASELINE\n",
    "import numpy as np\n",
    "import matplotlib.pyplot as plt\n",
    "from metaheuristicas import myDE\n",
    "from metaheuristicas import myAOA\n",
    "from metaheuristicas import myPSO"
   ]
  },
  {
   "cell_type": "markdown",
   "id": "1139589b",
   "metadata": {},
   "source": [
    "### Solucao do Problema 35"
   ]
  },
  {
   "cell_type": "markdown",
   "id": "7e7dcd38",
   "metadata": {},
   "source": [
    "$$\n",
    "\\begin{equation}\n",
    "    \\begin{aligned}\n",
    "        \\min_{\\vec{x}} \\quad & f(x) = 0.6224x_1 x_3 x_4 + 1.7781x_2 x^2_3 + 3.1661x_1^2x_4 + 19.84x_1^2x_3 \\\\\n",
    "        \\textrm{s.a.} \\quad & g_1(x) = -x_1 + 0.0193x_3 \\leq 0 \\\\\n",
    "        &  g_2(x) = - x_2 + 0.00954x_3 \\leq 0\\\\\n",
    "        &  g_3(x) = - \\pi x^2_3x_4 - \\frac{4}{3} \\pi x_3^3+1296000 \\leq 0 \\\\\n",
    "        &  g_4(x) = x_4 - 240 \\leq 0\n",
    "    \\end{aligned}\n",
    "\\end{equation}\n",
    "$$"
   ]
  },
  {
   "cell_type": "markdown",
   "id": "9ba6eb9d",
   "metadata": {},
   "source": []
  },
  {
   "cell_type": "code",
   "execution_count": 9,
   "id": "ea700253",
   "metadata": {},
   "outputs": [
    {
     "name": "stdout",
     "output_type": "stream",
     "text": [
      "Solucao por Evolucao Diferencial\n",
      "Ponto Otimo: [  0.7781752    0.38465404  40.31990671 199.99621293]\n",
      "Solucao Otima 5885.360477707781\n",
      "\n",
      "Solucao por Enxame de Particulas\n",
      "Ponto Otimo: [ 1.62379297  1.62379297 69.09186901 69.09186901]\n",
      "Solucao Otima 22798.555089768364\n"
     ]
    },
    {
     "data": {
      "image/png": "[encoded data removed]",
      "text/plain": [
       "<Figure size 432x288 with 1 Axes>"
      ]
     },
     "metadata": {
      "needs_background": "light"
     },
     "output_type": "display_data"
    }
   ],
   "source": [
    "from problemas_selecionados import problema35 as p35\n",
    "fobj = p35.func\n",
    "lb,ub = p35.constraint()\n",
    "# Parametros para todos os metodos\n",
    "N_max = 1000\n",
    "n = 100\n",
    "\n",
    "# Parametros para o DE\n",
    "F = 0.7\n",
    "Cr = 0.9\n",
    "best1,fmin1,conv_curve1 = myDE(fobj,n,F,Cr,lb,ub,N_max)\n",
    "print(\"Solucao por Evolucao Diferencial\")\n",
    "print(f\"Ponto Otimo: {best1}\")\n",
    "print(f\"Solucao Otima {fmin1}\")\n",
    "\n",
    "\n",
    "# Parametros para o PSO\n",
    "c1 = 2 # constante cognitiva\n",
    "c2 = 2 # constante social\n",
    "best2,fmin2,conv_curve2 = myPSO(fobj,n,c1,c2,lb,ub,N_max)\n",
    "print(\"\\nSolucao por Enxame de Particulas\")\n",
    "print(f\"Ponto Otimo: {best2}\")\n",
    "print(f\"Solucao Otima {fmin2}\")\n",
    "\n",
    "\n",
    "# Parametros para o AOA\n",
    "#C3=2;C4=.5;\n",
    "#C3 = 1; C4 =2;\n",
    "#best5,fmin5,conv_curve5 = myAOA(fobj,n,N_max,lb,ub,C3,C4)\n",
    "#print(\"\\nSolucao por Algoritmo de Otimizacao de Arquimedes\")\n",
    "#print(f\"Ponto Otimo: {best5}\")\n",
    "#print(f\"Solucao Otima {fmin5}\")\n",
    "\n",
    "plt.plot(range(N_max), conv_curve1[0])\n",
    "plt.plot(range(N_max), conv_curve2[0])\n",
    "#plt.plot(range(N_max), conv_curve5[0])\n",
    "plt.xlabel('Número de Iterações')\n",
    "plt.ylabel('Valor da Melhor Solução')\n",
    "#plt.legend(['DE','PSO','AOA'])\n",
    "plt.legend(['DE','PSO'])\n",
    "#plt.title('Curva de Convergência - Problema 35')\n",
    "plt.title('Curva de Convergência')\n",
    "plt.grid(True)\n",
    "plt.show()"
   ]
  },
  {
   "cell_type": "code",
   "execution_count": null,
   "id": "1e868609",
   "metadata": {},
   "outputs": [],
   "source": []
  }
 ],
 "metadata": {
  "kernelspec": {
   "display_name": "Python 3",
   "language": "python",
   "name": "python3"
  },
  "language_info": {
   "codemirror_mode": {
    "name": "ipython",
    "version": 3
   },
   "file_extension": ".py",
   "mimetype": "text/x-python",
   "name": "python",
   "nbconvert_exporter": "python",
   "pygments_lexer": "ipython3",
   "version": "3.9.6"
  }
 },
 "nbformat": 4,
 "nbformat_minor": 5
}
