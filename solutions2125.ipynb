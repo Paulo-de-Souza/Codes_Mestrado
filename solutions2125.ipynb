{
 "cells": [
  {
   "cell_type": "markdown",
   "id": "07bbb70f",
   "metadata": {},
   "source": [
    "## APLICANDO NOS PROBLEMAS SELECIONADOS"
   ]
  },
  {
   "cell_type": "code",
   "execution_count": 1,
   "id": "5840fb2a",
   "metadata": {},
   "outputs": [],
   "source": [
    "### BASELINE\n",
    "import numpy as np\n",
    "import matplotlib.pyplot as plt\n",
    "from metaheuristicas import myDE\n",
    "from metaheuristicas import myAOA\n",
    "from metaheuristicas import myPSO"
   ]
  },
  {
   "cell_type": "markdown",
   "id": "2bc59151",
   "metadata": {},
   "source": [
    "### Resolucao do Problema 21"
   ]
  },
  {
   "cell_type": "code",
   "execution_count": 3,
   "id": "103ace8f",
   "metadata": {},
   "outputs": [
    {
     "name": "stdout",
     "output_type": "stream",
     "text": [
      "Solucao por Evolucao Diferencial\n",
      "Ponto Otimo: [0.24436848 6.21754096 8.29148111 0.24436899]\n",
      "Solucao Otima 2.3809608224923706\n",
      "\n",
      "Solucao por Enxame de Particulas\n",
      "Ponto Otimo: [0.2484029 8.2484029 8.2484029 0.2484029]\n",
      "Solucao Otima 2.755364143702073\n",
      "\n",
      "Solucao por Algoritmo de Otimizacao de Arquimedes\n",
      "Ponto Otimo: [0.39365496 3.98971086 6.99925079 0.39366774]\n",
      "Solucao Otima 3.0677401202844248\n"
     ]
    },
    {
     "data": {
      "image/png": "[encoded data removed]",
      "text/plain": [
       "<Figure size 432x288 with 1 Axes>"
      ]
     },
     "metadata": {
      "needs_background": "light"
     },
     "output_type": "display_data"
    }
   ],
   "source": [
    "from problemas_selecionados import problema21 as p21\n",
    "fobj = p21.func\n",
    "lb,ub = p21.constraint()\n",
    "# Parametros para todos os metodos\n",
    "N_max = 1000\n",
    "n = 100\n",
    "\n",
    "# Parametros para o DE\n",
    "F = 0.7\n",
    "Cr = 0.9\n",
    "best1,fmin1,conv_curve1 = myDE(fobj,n,F,Cr,lb,ub,N_max)\n",
    "print(\"Solucao por Evolucao Diferencial\")\n",
    "print(f\"Ponto Otimo: {best1}\")\n",
    "print(f\"Solucao Otima {fmin1}\")\n",
    "\n",
    "\n",
    "# Parametros para o PSO\n",
    "c1 = 2 # constante cognitiva\n",
    "c2 = 2 # constante social\n",
    "best2,fmin2,conv_curve2 = myPSO(fobj,n,c1,c2,lb,ub,N_max)\n",
    "print(\"\\nSolucao por Enxame de Particulas\")\n",
    "print(f\"Ponto Otimo: {best2}\")\n",
    "print(f\"Solucao Otima {fmin2}\")\n",
    "\n",
    "\n",
    "# Parametros para o AOA\n",
    "#C3=2;C4=.5;\n",
    "C3 = 1; C4 =2;\n",
    "best5,fmin5,conv_curve5 = myAOA(fobj,n,N_max,lb,ub,C3,C4)\n",
    "print(\"\\nSolucao por Algoritmo de Otimizacao de Arquimedes\")\n",
    "print(f\"Ponto Otimo: {best5}\")\n",
    "print(f\"Solucao Otima {fmin5}\")\n",
    "\n",
    "plt.plot(range(N_max), conv_curve1[0])\n",
    "plt.plot(range(N_max), conv_curve2[0])\n",
    "plt.plot(range(N_max), conv_curve5[0])\n",
    "plt.xlabel('Número de Iterações')\n",
    "plt.ylabel('Valor da Melhor Solução')\n",
    "plt.legend(['DE','PSO','AOA'])\n",
    "plt.title('Curva de Convergência - Problema 21')\n",
    "plt.grid(True)\n",
    "plt.show()"
   ]
  },
  {
   "cell_type": "markdown",
   "id": "bb535cd9",
   "metadata": {},
   "source": [
    "### Resolucao do Problema 22"
   ]
  },
  {
   "cell_type": "code",
   "execution_count": 3,
   "id": "d0f78544",
   "metadata": {},
   "outputs": [
    {
     "name": "stdout",
     "output_type": "stream",
     "text": [
      "Solucao por Evolucao Diferencial\n",
      "Ponto Otimo: [ 3.50000403  0.7        17.          7.3         7.71516911  3.35021367\n",
      "  5.28651692]\n",
      "Solucao Otima 2994.25797671796\n",
      "\n",
      "Solucao por Enxame de Particulas\n",
      "Ponto Otimo: [ 3.49953026  0.7        22.10340343  8.19953026  8.19953026  3.79953026\n",
      "  5.39953026]\n",
      "Solucao Otima 5571.339871450346\n",
      "\n",
      "Solucao por Algoritmo de Otimizacao de Arquimedes\n",
      "Ponto Otimo: [ 3.5026614   0.7        18.5274294   7.3         7.71500164  3.40229232\n",
      "  5.2863333 ]\n",
      "Solucao Otima 3283.2331297895203\n"
     ]
    },
    {
     "data": {
      "image/png": "[encoded data removed]",
      "text/plain": [
       "<Figure size 432x288 with 1 Axes>"
      ]
     },
     "metadata": {
      "needs_background": "light"
     },
     "output_type": "display_data"
    }
   ],
   "source": [
    "from problemas_selecionados import problema22 as p22\n",
    "fobj = p22.func\n",
    "lb,ub = p22.constraint()\n",
    "# Parametros para todos os metodos\n",
    "N_max = 1000\n",
    "n = 30\n",
    "\n",
    "# Parametros para o DE\n",
    "F = 0.7\n",
    "Cr = 0.9\n",
    "best1,fmin1,conv_curve1 = myDE(fobj,n,F,Cr,lb,ub,N_max)\n",
    "print(\"Solucao por Evolucao Diferencial\")\n",
    "print(f\"Ponto Otimo: {best1}\")\n",
    "print(f\"Solucao Otima {fmin1}\")\n",
    "\n",
    "\n",
    "# Parametros para o PSO\n",
    "c1 = 2 # constante cognitiva\n",
    "c2 = 2 # constante social\n",
    "best2,fmin2,conv_curve2 = myPSO(fobj,n,c1,c2,lb,ub,N_max)\n",
    "print(\"\\nSolucao por Enxame de Particulas\")\n",
    "print(f\"Ponto Otimo: {best2}\")\n",
    "print(f\"Solucao Otima {fmin2}\")\n",
    "\n",
    "\n",
    "# Parametros para o AOA\n",
    "#C3=2;C4=.5;\n",
    "C3 = 1; C4 =2;\n",
    "best5,fmin5,conv_curve5 = myAOA(fobj,n,N_max,lb,ub,C3,C4)\n",
    "print(\"\\nSolucao por Algoritmo de Otimizacao de Arquimedes\")\n",
    "print(f\"Ponto Otimo: {best5}\")\n",
    "print(f\"Solucao Otima {fmin5}\")\n",
    "\n",
    "plt.plot(range(N_max), conv_curve1[0])\n",
    "plt.plot(range(N_max), conv_curve2[0])\n",
    "plt.plot(range(N_max), conv_curve5[0])\n",
    "plt.xlabel('Número de Iterações')\n",
    "plt.ylabel('Valor da Melhor Solução')\n",
    "plt.legend(['DE','PSO','AOA'])\n",
    "plt.title('Curva de Convergência - Problema 22')\n",
    "plt.grid(True)\n",
    "plt.show()"
   ]
  },
  {
   "cell_type": "markdown",
   "id": "f0541be6",
   "metadata": {},
   "source": [
    "### Resolucao do Problema 23"
   ]
  },
  {
   "cell_type": "code",
   "execution_count": null,
   "id": "e5243229",
   "metadata": {},
   "outputs": [],
   "source": [
    "from problemas_selecionados import problema23 as p23\n",
    "fobj = p23.func\n",
    "lb,ub = p23.constraint()\n",
    "best,fmin,conv_curve = myDE(fobj,n,F,Cr,lb,ub,N_max)\n",
    "\n",
    "print(f\"Ponto Otimo: {best}\")\n",
    "print(f\"Solucao Otima {fmin}\")\n",
    "\n",
    "plt.plot(range(N_max), conv_curve[0])\n",
    "plt.xlabel('Número de Iterações')\n",
    "plt.ylabel('Valor da Melhor Solução (log)')\n",
    "plt.title('Curva de Convergência')\n",
    "plt.grid(True)\n",
    "plt.show()"
   ]
  },
  {
   "cell_type": "markdown",
   "id": "cc302d3f",
   "metadata": {},
   "source": [
    "### Resolucao do Problema 24"
   ]
  },
  {
   "cell_type": "code",
   "execution_count": 5,
   "id": "a2c40826",
   "metadata": {},
   "outputs": [
    {
     "name": "stdout",
     "output_type": "stream",
     "text": [
      "Solucao por Evolucao Diferencial\n",
      "Ponto Otimo: [10.74982509  6.45014585 10.74973504 12.90044111]\n",
      "Solucao Otima 36.98000009511342\n",
      "\n",
      "Solucao por Enxame de Particulas\n",
      "Ponto Otimo: [10.29849459 10.29849459 10.29849459 10.29849459]\n",
      "Solucao Otima 39.14158832346481\n",
      "\n",
      "Solucao por Algoritmo de Otimizacao de Arquimedes\n",
      "Ponto Otimo: [10.62971338  7.38866649 10.42582431 11.99909586]\n",
      "Solucao Otima 37.19404212262331\n"
     ]
    },
    {
     "data": {
      "image/png": "[encoded data removed]",
      "text/plain": [
       "<Figure size 432x288 with 1 Axes>"
      ]
     },
     "metadata": {
      "needs_background": "light"
     },
     "output_type": "display_data"
    }
   ],
   "source": [
    "from problemas_selecionados import problema24 as p24\n",
    "fobj = p24.func\n",
    "lb,ub = p24.constraint()\n",
    "# Parametros para todos os metodos\n",
    "N_max = 1000\n",
    "n = 30\n",
    "\n",
    "# Parametros para o DE\n",
    "F = 0.7\n",
    "Cr = 0.9\n",
    "best1,fmin1,conv_curve1 = myDE(fobj,n,F,Cr,lb,ub,N_max)\n",
    "print(\"Solucao por Evolucao Diferencial\")\n",
    "print(f\"Ponto Otimo: {best1}\")\n",
    "print(f\"Solucao Otima {fmin1}\")\n",
    "\n",
    "\n",
    "# Parametros para o PSO\n",
    "c1 = 2 # constante cognitiva\n",
    "c2 = 2 # constante social\n",
    "best2,fmin2,conv_curve2 = myPSO(fobj,n,c1,c2,lb,ub,N_max)\n",
    "print(\"\\nSolucao por Enxame de Particulas\")\n",
    "print(f\"Ponto Otimo: {best2}\")\n",
    "print(f\"Solucao Otima {fmin2}\")\n",
    "\n",
    "\n",
    "# Parametros para o AOA\n",
    "#C3=2;C4=.5;\n",
    "C3 = 1; C4 =2;\n",
    "best5,fmin5,conv_curve5 = myAOA(fobj,n,N_max,lb,ub,C3,C4)\n",
    "print(\"\\nSolucao por Algoritmo de Otimizacao de Arquimedes\")\n",
    "print(f\"Ponto Otimo: {best5}\")\n",
    "print(f\"Solucao Otima {fmin5}\")\n",
    "\n",
    "plt.plot(range(N_max), conv_curve1[0])\n",
    "plt.plot(range(N_max), conv_curve2[0])\n",
    "plt.plot(range(N_max), conv_curve5[0])\n",
    "plt.xlabel('Número de Iterações')\n",
    "plt.ylabel('Valor da Melhor Solução')\n",
    "plt.legend(['DE','PSO','AOA'])\n",
    "plt.title('Curva de Convergência - Problema 24')\n",
    "plt.grid(True)\n",
    "plt.show()"
   ]
  }
 ],
 "metadata": {
  "kernelspec": {
   "display_name": "Python 3",
   "language": "python",
   "name": "python3"
  },
  "language_info": {
   "codemirror_mode": {
    "name": "ipython",
    "version": 3
   },
   "file_extension": ".py",
   "mimetype": "text/x-python",
   "name": "python",
   "nbconvert_exporter": "python",
   "pygments_lexer": "ipython3",
   "version": "3.9.6"
  }
 },
 "nbformat": 4,
 "nbformat_minor": 5
}
